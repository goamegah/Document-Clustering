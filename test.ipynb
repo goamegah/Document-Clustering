{
 "cells": [
  {
   "cell_type": "code",
   "execution_count": 1,
   "metadata": {
    "collapsed": true,
    "ExecuteTime": {
     "start_time": "2023-05-21T16:53:37.182666Z",
     "end_time": "2023-05-21T16:53:37.183565Z"
    }
   },
   "outputs": [],
   "source": [
    "glove_path=\"/home/khaldi/glove.840B.300d.txt\""
   ]
  },
  {
   "cell_type": "code",
   "execution_count": 2,
   "outputs": [],
   "source": [
    "import pandas as pd"
   ],
   "metadata": {
    "collapsed": false,
    "ExecuteTime": {
     "start_time": "2023-05-21T16:53:38.173887Z",
     "end_time": "2023-05-21T16:53:38.374956Z"
    }
   }
  },
  {
   "cell_type": "code",
   "execution_count": 3,
   "outputs": [],
   "source": [
    "df=pd.read_csv(\"/home/khaldi/Downloads/classic3.csv\")"
   ],
   "metadata": {
    "collapsed": false,
    "ExecuteTime": {
     "start_time": "2023-05-21T16:53:55.553793Z",
     "end_time": "2023-05-21T16:53:55.827938Z"
    }
   }
  },
  {
   "cell_type": "code",
   "execution_count": 5,
   "outputs": [
    {
     "data": {
      "text/plain": "0       Milestones in Cataloging In the case of the pr...\n1       childhood psychosis. a description is given of...\n2       neonatal hepatitis or familial neonatal obstru...\n3       Handbook of Comparative Librarianship The firs...\n4       Design and Evaluation of Information Systems T...\n                              ...                        \n3886    modification of autistic behavior with lsd-25....\n3887    Patterns of Evaluation in Science: Institution...\n3888    The government of the American Public Library ...\n3889    base pressure at subsonic speeds in the presen...\n3890    throat and nose surgery in patients with const...\nName: text, Length: 3891, dtype: object"
     },
     "execution_count": 5,
     "metadata": {},
     "output_type": "execute_result"
    }
   ],
   "source": [
    "df[\"text\"]"
   ],
   "metadata": {
    "collapsed": false,
    "ExecuteTime": {
     "start_time": "2023-05-21T16:54:02.205741Z",
     "end_time": "2023-05-21T16:54:02.258416Z"
    }
   }
  },
  {
   "cell_type": "code",
   "execution_count": 24,
   "outputs": [],
   "source": [
    "from core.word_embedding import Word2VecVectorizer\n",
    "from gensim.models import Word2Vec, KeyedVectors\n",
    "\n",
    "model=KeyedVectors.load_word2vec_format(\"/home/khaldi/Downloads/GoogleNews-vectors-negative300.bin\", binary=True)"
   ],
   "metadata": {
    "collapsed": false,
    "ExecuteTime": {
     "start_time": "2023-05-21T17:07:13.674780Z",
     "end_time": "2023-05-21T17:08:24.575024Z"
    }
   }
  },
  {
   "cell_type": "code",
   "execution_count": 25,
   "outputs": [
    {
     "name": "stdout",
     "output_type": "stream",
     "text": [
      "Loading in word vectors...\n",
      "Finished loading in word vectors\n"
     ]
    }
   ],
   "source": [
    "a=Word2VecVectorizer(model=model)"
   ],
   "metadata": {
    "collapsed": false,
    "ExecuteTime": {
     "start_time": "2023-05-21T17:08:40.542885Z",
     "end_time": "2023-05-21T17:08:40.563690Z"
    }
   }
  },
  {
   "cell_type": "code",
   "execution_count": 26,
   "outputs": [
    {
     "name": "stdout",
     "output_type": "stream",
     "text": [
      "Numer of samples with no words found: 0 / 3891\n"
     ]
    },
    {
     "data": {
      "text/plain": "array([[ 0.00970906,  0.02678933,  0.06113043, ..., -0.04137723,\n         0.05648432, -0.0085813 ],\n       [-0.01288505,  0.00886896,  0.03218891, ...,  0.00463735,\n         0.08710065, -0.01096643],\n       [-0.03072388,  0.05818338,  0.03193848, ..., -0.00841049,\n         0.06649154,  0.03276993],\n       ...,\n       [-0.00800102,  0.034822  ,  0.05032177, ...,  0.0001329 ,\n         0.03018361, -0.02418666],\n       [ 0.0303354 ,  0.12474661,  0.02635856, ...,  0.04482346,\n         0.01535134, -0.07617557],\n       [-0.03228673,  0.13273299,  0.02859392, ...,  0.02838556,\n         0.06410796, -0.00666283]])"
     },
     "execution_count": 26,
     "metadata": {},
     "output_type": "execute_result"
    }
   ],
   "source": [
    "a.fit_transform(df[\"text\"])"
   ],
   "metadata": {
    "collapsed": false,
    "ExecuteTime": {
     "start_time": "2023-05-21T17:08:42.454064Z",
     "end_time": "2023-05-21T17:08:43.418280Z"
    }
   }
  },
  {
   "cell_type": "code",
   "execution_count": 29,
   "outputs": [],
   "source": [
    "from sklearn.feature_extraction.text import TfidfVectorizer\n",
    "\n",
    "tfidf_vectorizer = TfidfVectorizer(min_df=1)\n"
   ],
   "metadata": {
    "collapsed": false,
    "ExecuteTime": {
     "start_time": "2023-05-21T17:10:01.831095Z",
     "end_time": "2023-05-21T17:10:02.130775Z"
    }
   }
  },
  {
   "cell_type": "code",
   "execution_count": 30,
   "outputs": [],
   "source": [
    "X = tfidf_vectorizer.fit_transform(df['text'])\n"
   ],
   "metadata": {
    "collapsed": false,
    "ExecuteTime": {
     "start_time": "2023-05-21T17:10:03.038103Z",
     "end_time": "2023-05-21T17:10:03.398486Z"
    }
   }
  },
  {
   "cell_type": "code",
   "execution_count": 31,
   "outputs": [
    {
     "data": {
      "text/plain": "<3891x21761 sparse matrix of type '<class 'numpy.float64'>'\n\twith 319708 stored elements in Compressed Sparse Row format>"
     },
     "execution_count": 31,
     "metadata": {},
     "output_type": "execute_result"
    }
   ],
   "source": [
    "X"
   ],
   "metadata": {
    "collapsed": false,
    "ExecuteTime": {
     "start_time": "2023-05-21T17:10:05.168953Z",
     "end_time": "2023-05-21T17:10:05.416077Z"
    }
   }
  },
  {
   "cell_type": "code",
   "execution_count": null,
   "outputs": [],
   "source": [],
   "metadata": {
    "collapsed": false
   }
  }
 ],
 "metadata": {
  "kernelspec": {
   "display_name": "Python 3",
   "language": "python",
   "name": "python3"
  },
  "language_info": {
   "codemirror_mode": {
    "name": "ipython",
    "version": 2
   },
   "file_extension": ".py",
   "mimetype": "text/x-python",
   "name": "python",
   "nbconvert_exporter": "python",
   "pygments_lexer": "ipython2",
   "version": "2.7.6"
  }
 },
 "nbformat": 4,
 "nbformat_minor": 0
}
