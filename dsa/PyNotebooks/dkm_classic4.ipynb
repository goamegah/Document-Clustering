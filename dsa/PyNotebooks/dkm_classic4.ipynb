{
 "cells": [
  {
   "cell_type": "code",
   "execution_count": 43,
   "metadata": {
    "collapsed": true,
    "ExecuteTime": {
     "end_time": "2023-05-24T20:55:43.076104033Z",
     "start_time": "2023-05-24T20:55:43.032303476Z"
    }
   },
   "outputs": [],
   "source": [
    "from dkm_work.dkm import deep_kmeans\n",
    "from globals import PARAMS"
   ]
  },
  {
   "cell_type": "code",
   "execution_count": 44,
   "outputs": [
    {
     "name": "stdout",
     "output_type": "stream",
     "text": [
      "Hyperparameters...\n",
      "lambda = 1.0\n",
      "Run 0\n"
     ]
    },
    {
     "name": "stderr",
     "output_type": "stream",
     "text": [
      "/home/godwin/Documents/Uparis/M1MLSD2223/ue_data2/text-clustering/dkm_work/compgraph.py:14: UserWarning: `tf.layers.dense` is deprecated and will be removed in a future version. Please use `tf.keras.layers.Dense` instead.\n",
      "  input = tf.compat.v1.layers.dense(inputs=input, units=dimension, activation=activation, name=name, reuse=tf.compat.v1.AUTO_REUSE)\n"
     ]
    },
    {
     "name": "stdout",
     "output_type": "stream",
     "text": [
      "Starting autoencoder pretraining...\n",
      "Pretraining step: epoch 0\n",
      "Pretraining step: epoch 1\n",
      "Pretraining step: epoch 2\n",
      "Pretraining step: epoch 3\n",
      "Pretraining step: epoch 4\n",
      "Pretraining step: epoch 5\n",
      "Pretraining step: epoch 6\n",
      "Pretraining step: epoch 7\n",
      "Pretraining step: epoch 8\n",
      "Pretraining step: epoch 9\n",
      "Pretraining step: epoch 10\n",
      "Pretraining step: epoch 11\n",
      "Pretraining step: epoch 12\n",
      "Pretraining step: epoch 13\n",
      "Pretraining step: epoch 14\n",
      "Pretraining step: epoch 15\n",
      "Pretraining step: epoch 16\n",
      "Pretraining step: epoch 17\n",
      "Pretraining step: epoch 18\n",
      "Pretraining step: epoch 19\n",
      "Pretraining step: epoch 20\n",
      "Pretraining step: epoch 21\n",
      "Pretraining step: epoch 22\n",
      "Pretraining step: epoch 23\n",
      "Pretraining step: epoch 24\n",
      "Pretraining step: epoch 25\n",
      "Pretraining step: epoch 26\n",
      "Pretraining step: epoch 27\n",
      "Pretraining step: epoch 28\n",
      "Pretraining step: epoch 29\n",
      "Pretraining step: epoch 30\n",
      "Pretraining step: epoch 31\n",
      "Pretraining step: epoch 32\n",
      "Pretraining step: epoch 33\n",
      "Pretraining step: epoch 34\n",
      "Pretraining step: epoch 35\n",
      "Pretraining step: epoch 36\n",
      "Pretraining step: epoch 37\n",
      "Pretraining step: epoch 38\n",
      "Pretraining step: epoch 39\n",
      "Pretraining step: epoch 40\n",
      "Pretraining step: epoch 41\n",
      "Pretraining step: epoch 42\n",
      "Pretraining step: epoch 43\n",
      "Pretraining step: epoch 44\n",
      "Pretraining step: epoch 45\n",
      "Pretraining step: epoch 46\n",
      "Pretraining step: epoch 47\n",
      "Pretraining step: epoch 48\n",
      "Pretraining step: epoch 49\n",
      "Running k-means on the learned embeddings...\n"
     ]
    },
    {
     "name": "stderr",
     "output_type": "stream",
     "text": [
      "/home/godwin/.cache/pypoetry/virtualenvs/text-clust-OuPGshOE-py3.10/lib/python3.10/site-packages/sklearn/cluster/_kmeans.py:870: FutureWarning: The default value of `n_init` will change from 10 to 'auto' in 1.4. Set the value of `n_init` explicitly to suppress the warning\n",
      "  warnings.warn(\n",
      "/home/godwin/Documents/Uparis/M1MLSD2223/ue_data2/text-clustering/dkm_work/linear_assignment_.py:124: FutureWarning: The linear_assignment function is deprecated in 0.21 and will be removed from 0.23. Use scipy.optimize.linear_sum_assignment instead.\n",
      "  warnings.warn(\n"
     ]
    },
    {
     "name": "stdout",
     "output_type": "stream",
     "text": [
      "ACC 0.34996476391825226\n",
      "ARI -0.051842943012508656\n",
      "NMI 0.18951176668128888\n",
      "Starting DKM training...\n",
      "Training step: alpha[0]: 1000.0\n",
      "loss: 1.3986093\n",
      "ae loss: 1.346157\n",
      "kmeans loss: 0.05245232\n",
      "ACC 0.3532064834390416\n",
      "ARI -0.0453918498442931\n",
      "NMI 0.16186986916133286\n",
      "Training step: alpha[1]: 1000.0\n"
     ]
    },
    {
     "name": "stderr",
     "output_type": "stream",
     "text": [
      "/home/godwin/Documents/Uparis/M1MLSD2223/ue_data2/text-clustering/dkm_work/linear_assignment_.py:124: FutureWarning: The linear_assignment function is deprecated in 0.21 and will be removed from 0.23. Use scipy.optimize.linear_sum_assignment instead.\n",
      "  warnings.warn(\n"
     ]
    },
    {
     "name": "stdout",
     "output_type": "stream",
     "text": [
      "loss: 1.0562127\n",
      "ae loss: 1.0294143\n",
      "kmeans loss: 0.026798312\n",
      "ACC 0.3540521494009866\n",
      "ARI -0.045004244838551366\n",
      "NMI 0.16266915814873184\n",
      "Training step: alpha[2]: 1000.0\n"
     ]
    },
    {
     "name": "stderr",
     "output_type": "stream",
     "text": [
      "/home/godwin/Documents/Uparis/M1MLSD2223/ue_data2/text-clustering/dkm_work/linear_assignment_.py:124: FutureWarning: The linear_assignment function is deprecated in 0.21 and will be removed from 0.23. Use scipy.optimize.linear_sum_assignment instead.\n",
      "  warnings.warn(\n"
     ]
    },
    {
     "name": "stdout",
     "output_type": "stream",
     "text": [
      "loss: 1.1026864\n",
      "ae loss: 1.0873511\n",
      "kmeans loss: 0.015335357\n",
      "ACC 0.3544749823819591\n",
      "ARI -0.04501429409707029\n",
      "NMI 0.1636322335840968\n",
      "Training step: alpha[3]: 1000.0\n"
     ]
    },
    {
     "name": "stderr",
     "output_type": "stream",
     "text": [
      "/home/godwin/Documents/Uparis/M1MLSD2223/ue_data2/text-clustering/dkm_work/linear_assignment_.py:124: FutureWarning: The linear_assignment function is deprecated in 0.21 and will be removed from 0.23. Use scipy.optimize.linear_sum_assignment instead.\n",
      "  warnings.warn(\n"
     ]
    },
    {
     "name": "stdout",
     "output_type": "stream",
     "text": [
      "loss: 0.8077797\n",
      "ae loss: 0.78830403\n",
      "kmeans loss: 0.01947571\n",
      "ACC 0.3364341085271318\n",
      "ARI -0.05571740116835085\n",
      "NMI 0.16010315916832502\n",
      "Training step: alpha[4]: 1000.0\n"
     ]
    },
    {
     "name": "stderr",
     "output_type": "stream",
     "text": [
      "/home/godwin/Documents/Uparis/M1MLSD2223/ue_data2/text-clustering/dkm_work/linear_assignment_.py:124: FutureWarning: The linear_assignment function is deprecated in 0.21 and will be removed from 0.23. Use scipy.optimize.linear_sum_assignment instead.\n",
      "  warnings.warn(\n"
     ]
    },
    {
     "name": "stdout",
     "output_type": "stream",
     "text": [
      "loss: 1.0360873\n",
      "ae loss: 1.0236282\n",
      "kmeans loss: 0.012459017\n",
      "ACC 0.3377026074700493\n",
      "ARI -0.05546880095676395\n",
      "NMI 0.16222395999287695\n",
      "Training step: alpha[5]: 1000.0\n"
     ]
    },
    {
     "name": "stderr",
     "output_type": "stream",
     "text": [
      "/home/godwin/Documents/Uparis/M1MLSD2223/ue_data2/text-clustering/dkm_work/linear_assignment_.py:124: FutureWarning: The linear_assignment function is deprecated in 0.21 and will be removed from 0.23. Use scipy.optimize.linear_sum_assignment instead.\n",
      "  warnings.warn(\n"
     ]
    },
    {
     "name": "stdout",
     "output_type": "stream",
     "text": [
      "loss: 0.8257172\n",
      "ae loss: 0.8138182\n",
      "kmeans loss: 0.011898975\n",
      "ACC 0.3346018322762509\n",
      "ARI -0.05763650864670472\n",
      "NMI 0.16300576706708972\n",
      "Training step: alpha[6]: 1000.0\n"
     ]
    },
    {
     "name": "stderr",
     "output_type": "stream",
     "text": [
      "/home/godwin/Documents/Uparis/M1MLSD2223/ue_data2/text-clustering/dkm_work/linear_assignment_.py:124: FutureWarning: The linear_assignment function is deprecated in 0.21 and will be removed from 0.23. Use scipy.optimize.linear_sum_assignment instead.\n",
      "  warnings.warn(\n"
     ]
    },
    {
     "name": "stdout",
     "output_type": "stream",
     "text": [
      "loss: 0.6331302\n",
      "ae loss: 0.6256104\n",
      "kmeans loss: 0.007519795\n",
      "ACC 0.32107117688513037\n",
      "ARI -0.06502301360265585\n",
      "NMI 0.16183000357997165\n",
      "Training step: alpha[7]: 1000.0\n"
     ]
    },
    {
     "name": "stderr",
     "output_type": "stream",
     "text": [
      "/home/godwin/Documents/Uparis/M1MLSD2223/ue_data2/text-clustering/dkm_work/linear_assignment_.py:124: FutureWarning: The linear_assignment function is deprecated in 0.21 and will be removed from 0.23. Use scipy.optimize.linear_sum_assignment instead.\n",
      "  warnings.warn(\n"
     ]
    },
    {
     "name": "stdout",
     "output_type": "stream",
     "text": [
      "loss: 0.75525874\n",
      "ae loss: 0.7475069\n",
      "kmeans loss: 0.0077517936\n",
      "ACC 0.31627906976744186\n",
      "ARI -0.06670968992720971\n",
      "NMI 0.15928111173192913\n",
      "Training step: alpha[8]: 1000.0\n"
     ]
    },
    {
     "name": "stderr",
     "output_type": "stream",
     "text": [
      "/home/godwin/Documents/Uparis/M1MLSD2223/ue_data2/text-clustering/dkm_work/linear_assignment_.py:124: FutureWarning: The linear_assignment function is deprecated in 0.21 and will be removed from 0.23. Use scipy.optimize.linear_sum_assignment instead.\n",
      "  warnings.warn(\n"
     ]
    },
    {
     "name": "stdout",
     "output_type": "stream",
     "text": [
      "loss: 0.67781234\n",
      "ae loss: 0.66961044\n",
      "kmeans loss: 0.008201877\n",
      "ACC 0.31627906976744186\n",
      "ARI -0.06693098014354115\n",
      "NMI 0.16047903166131355\n",
      "Training step: alpha[9]: 1000.0\n"
     ]
    },
    {
     "name": "stderr",
     "output_type": "stream",
     "text": [
      "/home/godwin/Documents/Uparis/M1MLSD2223/ue_data2/text-clustering/dkm_work/linear_assignment_.py:124: FutureWarning: The linear_assignment function is deprecated in 0.21 and will be removed from 0.23. Use scipy.optimize.linear_sum_assignment instead.\n",
      "  warnings.warn(\n"
     ]
    },
    {
     "name": "stdout",
     "output_type": "stream",
     "text": [
      "loss: 0.6353148\n",
      "ae loss: 0.6279138\n",
      "kmeans loss: 0.0074010566\n",
      "ACC 0.3138830162085976\n",
      "ARI -0.06808315318544805\n",
      "NMI 0.16112745921990299\n",
      "Training step: alpha[10]: 1000.0\n"
     ]
    },
    {
     "name": "stderr",
     "output_type": "stream",
     "text": [
      "/home/godwin/Documents/Uparis/M1MLSD2223/ue_data2/text-clustering/dkm_work/linear_assignment_.py:124: FutureWarning: The linear_assignment function is deprecated in 0.21 and will be removed from 0.23. Use scipy.optimize.linear_sum_assignment instead.\n",
      "  warnings.warn(\n"
     ]
    },
    {
     "name": "stdout",
     "output_type": "stream",
     "text": [
      "loss: 0.644628\n",
      "ae loss: 0.6332964\n",
      "kmeans loss: 0.011331623\n",
      "ACC 0.3112050739957717\n",
      "ARI -0.06898721960396495\n",
      "NMI 0.1599614790707128\n",
      "Training step: alpha[11]: 1000.0\n"
     ]
    },
    {
     "name": "stderr",
     "output_type": "stream",
     "text": [
      "/home/godwin/Documents/Uparis/M1MLSD2223/ue_data2/text-clustering/dkm_work/linear_assignment_.py:124: FutureWarning: The linear_assignment function is deprecated in 0.21 and will be removed from 0.23. Use scipy.optimize.linear_sum_assignment instead.\n",
      "  warnings.warn(\n"
     ]
    },
    {
     "name": "stdout",
     "output_type": "stream",
     "text": [
      "loss: 0.6659952\n",
      "ae loss: 0.6580427\n",
      "kmeans loss: 0.007952442\n",
      "ACC 0.3076814658210007\n",
      "ARI -0.07056314529809683\n",
      "NMI 0.16085524611082602\n",
      "Training step: alpha[12]: 1000.0\n"
     ]
    },
    {
     "name": "stderr",
     "output_type": "stream",
     "text": [
      "/home/godwin/Documents/Uparis/M1MLSD2223/ue_data2/text-clustering/dkm_work/linear_assignment_.py:124: FutureWarning: The linear_assignment function is deprecated in 0.21 and will be removed from 0.23. Use scipy.optimize.linear_sum_assignment instead.\n",
      "  warnings.warn(\n"
     ]
    },
    {
     "name": "stdout",
     "output_type": "stream",
     "text": [
      "loss: 0.66545534\n",
      "ae loss: 0.6562156\n",
      "kmeans loss: 0.0092397155\n",
      "ACC 0.3047216349541931\n",
      "ARI -0.07139469129306751\n",
      "NMI 0.15947097615949993\n",
      "Training step: alpha[13]: 1000.0\n"
     ]
    },
    {
     "name": "stderr",
     "output_type": "stream",
     "text": [
      "/home/godwin/Documents/Uparis/M1MLSD2223/ue_data2/text-clustering/dkm_work/linear_assignment_.py:124: FutureWarning: The linear_assignment function is deprecated in 0.21 and will be removed from 0.23. Use scipy.optimize.linear_sum_assignment instead.\n",
      "  warnings.warn(\n"
     ]
    },
    {
     "name": "stdout",
     "output_type": "stream",
     "text": [
      "loss: 0.5990269\n",
      "ae loss: 0.59299767\n",
      "kmeans loss: 0.006029248\n",
      "ACC 0.30077519379844964\n",
      "ARI -0.07254212297735425\n",
      "NMI 0.15915270557846734\n",
      "Training step: alpha[14]: 1000.0\n"
     ]
    },
    {
     "name": "stderr",
     "output_type": "stream",
     "text": [
      "/home/godwin/Documents/Uparis/M1MLSD2223/ue_data2/text-clustering/dkm_work/linear_assignment_.py:124: FutureWarning: The linear_assignment function is deprecated in 0.21 and will be removed from 0.23. Use scipy.optimize.linear_sum_assignment instead.\n",
      "  warnings.warn(\n"
     ]
    },
    {
     "name": "stdout",
     "output_type": "stream",
     "text": [
      "loss: 0.6281353\n",
      "ae loss: 0.61992073\n",
      "kmeans loss: 0.008214603\n",
      "ACC 0.3017618040873855\n",
      "ARI -0.07253780167548217\n",
      "NMI 0.16130296865389074\n",
      "Training step: alpha[15]: 1000.0\n"
     ]
    },
    {
     "name": "stderr",
     "output_type": "stream",
     "text": [
      "/home/godwin/Documents/Uparis/M1MLSD2223/ue_data2/text-clustering/dkm_work/linear_assignment_.py:124: FutureWarning: The linear_assignment function is deprecated in 0.21 and will be removed from 0.23. Use scipy.optimize.linear_sum_assignment instead.\n",
      "  warnings.warn(\n"
     ]
    },
    {
     "name": "stdout",
     "output_type": "stream",
     "text": [
      "loss: 0.64252836\n",
      "ae loss: 0.6349468\n",
      "kmeans loss: 0.007581561\n",
      "ACC 0.29908386187455954\n",
      "ARI -0.07321437827465245\n",
      "NMI 0.16008987793001916\n",
      "Training step: alpha[16]: 1000.0\n"
     ]
    },
    {
     "name": "stderr",
     "output_type": "stream",
     "text": [
      "/home/godwin/Documents/Uparis/M1MLSD2223/ue_data2/text-clustering/dkm_work/linear_assignment_.py:124: FutureWarning: The linear_assignment function is deprecated in 0.21 and will be removed from 0.23. Use scipy.optimize.linear_sum_assignment instead.\n",
      "  warnings.warn(\n"
     ]
    },
    {
     "name": "stdout",
     "output_type": "stream",
     "text": [
      "loss: 0.5922427\n",
      "ae loss: 0.5852955\n",
      "kmeans loss: 0.0069472482\n",
      "ACC 0.2979563072586328\n",
      "ARI -0.07359758014428183\n",
      "NMI 0.1609994055962094\n",
      "Training step: alpha[17]: 1000.0\n"
     ]
    },
    {
     "name": "stderr",
     "output_type": "stream",
     "text": [
      "/home/godwin/Documents/Uparis/M1MLSD2223/ue_data2/text-clustering/dkm_work/linear_assignment_.py:124: FutureWarning: The linear_assignment function is deprecated in 0.21 and will be removed from 0.23. Use scipy.optimize.linear_sum_assignment instead.\n",
      "  warnings.warn(\n"
     ]
    },
    {
     "name": "stdout",
     "output_type": "stream",
     "text": [
      "loss: 0.5908912\n",
      "ae loss: 0.5840348\n",
      "kmeans loss: 0.006856391\n",
      "ACC 0.29682875264270614\n",
      "ARI -0.07397104083537136\n",
      "NMI 0.1617788419751488\n",
      "Training step: alpha[18]: 1000.0\n"
     ]
    },
    {
     "name": "stderr",
     "output_type": "stream",
     "text": [
      "/home/godwin/Documents/Uparis/M1MLSD2223/ue_data2/text-clustering/dkm_work/linear_assignment_.py:124: FutureWarning: The linear_assignment function is deprecated in 0.21 and will be removed from 0.23. Use scipy.optimize.linear_sum_assignment instead.\n",
      "  warnings.warn(\n"
     ]
    },
    {
     "name": "stdout",
     "output_type": "stream",
     "text": [
      "loss: 0.59508365\n",
      "ae loss: 0.58875823\n",
      "kmeans loss: 0.0063254377\n",
      "ACC 0.29767441860465116\n",
      "ARI -0.0738329413482559\n",
      "NMI 0.162702378536866\n",
      "Training step: alpha[19]: 1000.0\n"
     ]
    },
    {
     "name": "stderr",
     "output_type": "stream",
     "text": [
      "/home/godwin/Documents/Uparis/M1MLSD2223/ue_data2/text-clustering/dkm_work/linear_assignment_.py:124: FutureWarning: The linear_assignment function is deprecated in 0.21 and will be removed from 0.23. Use scipy.optimize.linear_sum_assignment instead.\n",
      "  warnings.warn(\n"
     ]
    },
    {
     "name": "stdout",
     "output_type": "stream",
     "text": [
      "loss: 0.55017513\n",
      "ae loss: 0.54275095\n",
      "kmeans loss: 0.0074241627\n",
      "ACC 0.2927413671599718\n",
      "ARI -0.07512521189893162\n",
      "NMI 0.16231808439703085\n",
      "Average ACC: 0.293 +/- 0.000\n",
      "Average ARI: -0.075 +/- 0.000\n",
      "Average NMI: 0.162 +/- 0.000\n"
     ]
    },
    {
     "name": "stderr",
     "output_type": "stream",
     "text": [
      "/home/godwin/Documents/Uparis/M1MLSD2223/ue_data2/text-clustering/dkm_work/linear_assignment_.py:124: FutureWarning: The linear_assignment function is deprecated in 0.21 and will be removed from 0.23. Use scipy.optimize.linear_sum_assignment instead.\n",
      "  warnings.warn(\n"
     ]
    }
   ],
   "source": [
    "results=deep_kmeans(dataset=\"CLASSIC4\", params=PARAMS, n_runs=1)"
   ],
   "metadata": {
    "collapsed": false,
    "ExecuteTime": {
     "end_time": "2023-05-24T21:09:41.439116116Z",
     "start_time": "2023-05-24T20:55:44.197754642Z"
    }
   }
  },
  {
   "cell_type": "code",
   "execution_count": 45,
   "outputs": [],
   "source": [
    "results[\"embeddings\"].tofile(\"classic4.dat\")\n",
    "results[\"labels\"].tofile(\"classic4_labels.dat\")"
   ],
   "metadata": {
    "collapsed": false,
    "ExecuteTime": {
     "end_time": "2023-05-24T21:17:42.104383204Z",
     "start_time": "2023-05-24T21:17:42.056817933Z"
    }
   }
  },
  {
   "cell_type": "code",
   "execution_count": 46,
   "outputs": [
    {
     "data": {
      "text/plain": "{'labels': array([3, 1, 1, ..., 3, 0, 1]),\n 'acc': array([0.29274137]),\n 'ari': array([-0.07512521]),\n 'nmi': array([0.16231808]),\n 'embeddings': array([[-0.08424574,  0.14716817, -0.36194792, -0.09486204],\n        [ 0.02334035, -0.01093927,  0.02677603,  0.00999626],\n        [ 0.00333993,  0.00920643,  0.07478649, -0.0241348 ],\n        ...,\n        [-0.00450928, -0.0098887 , -0.11344745, -0.00822343],\n        [-0.02667313,  0.04960406,  0.01620006, -0.27622831],\n        [-0.07071263,  0.02978241,  0.04580133, -0.01221003]])}"
     },
     "execution_count": 46,
     "metadata": {},
     "output_type": "execute_result"
    }
   ],
   "source": [
    "results"
   ],
   "metadata": {
    "collapsed": false,
    "ExecuteTime": {
     "end_time": "2023-05-24T21:17:42.476711007Z",
     "start_time": "2023-05-24T21:17:42.470660642Z"
    }
   }
  },
  {
   "cell_type": "code",
   "execution_count": 47,
   "outputs": [
    {
     "data": {
      "text/plain": "(7095, 4)"
     },
     "execution_count": 47,
     "metadata": {},
     "output_type": "execute_result"
    }
   ],
   "source": [
    "results[\"embeddings\"].shape"
   ],
   "metadata": {
    "collapsed": false,
    "ExecuteTime": {
     "end_time": "2023-05-24T21:17:42.936891893Z",
     "start_time": "2023-05-24T21:17:42.933907976Z"
    }
   }
  },
  {
   "cell_type": "code",
   "execution_count": 48,
   "outputs": [
    {
     "data": {
      "text/plain": "(7095,)"
     },
     "execution_count": 48,
     "metadata": {},
     "output_type": "execute_result"
    }
   ],
   "source": [
    "results[\"labels\"].shape"
   ],
   "metadata": {
    "collapsed": false,
    "ExecuteTime": {
     "end_time": "2023-05-24T21:17:43.257873899Z",
     "start_time": "2023-05-24T21:17:43.254221034Z"
    }
   }
  },
  {
   "cell_type": "code",
   "execution_count": 49,
   "outputs": [
    {
     "data": {
      "text/plain": "array([[-0.08424574,  0.14716817, -0.36194792, -0.09486204],\n       [ 0.02334035, -0.01093927,  0.02677603,  0.00999626],\n       [ 0.00333993,  0.00920643,  0.07478649, -0.0241348 ],\n       ...,\n       [-0.00450928, -0.0098887 , -0.11344745, -0.00822343],\n       [-0.02667313,  0.04960406,  0.01620006, -0.27622831],\n       [-0.07071263,  0.02978241,  0.04580133, -0.01221003]])"
     },
     "execution_count": 49,
     "metadata": {},
     "output_type": "execute_result"
    }
   ],
   "source": [
    "import numpy as np\n",
    "np.fromfile(\"classic4.dat\").reshape((7095, 4))"
   ],
   "metadata": {
    "collapsed": false,
    "ExecuteTime": {
     "end_time": "2023-05-24T21:17:43.628571975Z",
     "start_time": "2023-05-24T21:17:43.621400045Z"
    }
   }
  },
  {
   "cell_type": "code",
   "execution_count": 50,
   "outputs": [
    {
     "data": {
      "text/plain": "array([3, 1, 1, ..., 3, 0, 1])"
     },
     "execution_count": 50,
     "metadata": {},
     "output_type": "execute_result"
    }
   ],
   "source": [
    "np.fromfile(\"classic4_labels.dat\",dtype=int).reshape(-1)"
   ],
   "metadata": {
    "collapsed": false,
    "ExecuteTime": {
     "end_time": "2023-05-24T21:17:43.900580811Z",
     "start_time": "2023-05-24T21:17:43.893022974Z"
    }
   }
  },
  {
   "cell_type": "code",
   "execution_count": 51,
   "outputs": [],
   "source": [
    "import numpy as np\n",
    "import matplotlib.pyplot as plt\n",
    "import pandas as pd\n",
    "from pathlib import Path"
   ],
   "metadata": {
    "collapsed": false,
    "ExecuteTime": {
     "end_time": "2023-05-24T21:17:44.256805750Z",
     "start_time": "2023-05-24T21:17:44.248251922Z"
    }
   }
  },
  {
   "cell_type": "code",
   "execution_count": 52,
   "outputs": [],
   "source": [
    "df_classic4 = pd.read_csv(\n",
    "    filepath_or_buffer=\"/home/godwin/Documents/Uparis/M1MLSD2223/ue_data2/text-clustering/core/datasets/data/classic4.csv\"\n",
    ")\n",
    "\n",
    "document_name=\"classic4-dkm\""
   ],
   "metadata": {
    "collapsed": false,
    "ExecuteTime": {
     "end_time": "2023-05-24T21:17:44.663675968Z",
     "start_time": "2023-05-24T21:17:44.620044392Z"
    }
   }
  },
  {
   "cell_type": "code",
   "execution_count": 53,
   "outputs": [],
   "source": [
    "IMAGES_PATH = Path.cwd().parent.parent / \"images\" / \"unsupervised_learning\" / f\"{document_name}\"\n",
    "IMAGES_PATH.mkdir(parents=True, exist_ok=True)\n",
    "\n",
    "def save_fig(fig_id, tight_layout=True, fig_extension=\"png\", resolution=300):\n",
    "    path = IMAGES_PATH / f\"{fig_id}.{fig_extension}\"\n",
    "    if tight_layout:\n",
    "        plt.tight_layout()\n",
    "    plt.savefig(path, format=fig_extension, dpi=resolution)"
   ],
   "metadata": {
    "collapsed": false,
    "ExecuteTime": {
     "end_time": "2023-05-24T21:17:45.129402426Z",
     "start_time": "2023-05-24T21:17:45.123478117Z"
    }
   }
  },
  {
   "cell_type": "code",
   "execution_count": 54,
   "outputs": [
    {
     "data": {
      "text/plain": "   Unnamed: 0                                               text label\n0           0  Computer-Aided Analysis and Design of Informat...  cacm\n1           1  Milestones in Cataloging In the case of the pr...  cisi\n2           2  childhood psychosis. a description is given of...   med\n3           3  neonatal hepatitis or familial neonatal obstru...   med\n4           4  Handbook of Comparative Librarianship The firs...  cisi",
      "text/html": "<div>\n<style scoped>\n    .dataframe tbody tr th:only-of-type {\n        vertical-align: middle;\n    }\n\n    .dataframe tbody tr th {\n        vertical-align: top;\n    }\n\n    .dataframe thead th {\n        text-align: right;\n    }\n</style>\n<table border=\"1\" class=\"dataframe\">\n  <thead>\n    <tr style=\"text-align: right;\">\n      <th></th>\n      <th>Unnamed: 0</th>\n      <th>text</th>\n      <th>label</th>\n    </tr>\n  </thead>\n  <tbody>\n    <tr>\n      <th>0</th>\n      <td>0</td>\n      <td>Computer-Aided Analysis and Design of Informat...</td>\n      <td>cacm</td>\n    </tr>\n    <tr>\n      <th>1</th>\n      <td>1</td>\n      <td>Milestones in Cataloging In the case of the pr...</td>\n      <td>cisi</td>\n    </tr>\n    <tr>\n      <th>2</th>\n      <td>2</td>\n      <td>childhood psychosis. a description is given of...</td>\n      <td>med</td>\n    </tr>\n    <tr>\n      <th>3</th>\n      <td>3</td>\n      <td>neonatal hepatitis or familial neonatal obstru...</td>\n      <td>med</td>\n    </tr>\n    <tr>\n      <th>4</th>\n      <td>4</td>\n      <td>Handbook of Comparative Librarianship The firs...</td>\n      <td>cisi</td>\n    </tr>\n  </tbody>\n</table>\n</div>"
     },
     "execution_count": 54,
     "metadata": {},
     "output_type": "execute_result"
    }
   ],
   "source": [
    "df_classic4.head()"
   ],
   "metadata": {
    "collapsed": false,
    "ExecuteTime": {
     "end_time": "2023-05-24T21:17:45.678209627Z",
     "start_time": "2023-05-24T21:17:45.651385734Z"
    }
   }
  },
  {
   "cell_type": "code",
   "execution_count": 55,
   "outputs": [],
   "source": [
    "topics = df_classic4['label'].unique()\n",
    "color_mapping = {topic: i for i, topic in enumerate(topics)}\n",
    "topic_colors = [color_mapping[topic] for topic in df_classic4['label']]\n"
   ],
   "metadata": {
    "collapsed": false,
    "ExecuteTime": {
     "end_time": "2023-05-24T21:17:51.183077135Z",
     "start_time": "2023-05-24T21:17:51.175086189Z"
    }
   }
  },
  {
   "cell_type": "code",
   "execution_count": 56,
   "outputs": [],
   "source": [
    "\n",
    "classes = [\n",
    "    '0',\n",
    "    '1',\n",
    "    '2',\n",
    "    '4'\n",
    "]"
   ],
   "metadata": {
    "collapsed": false,
    "ExecuteTime": {
     "end_time": "2023-05-24T21:17:51.553408293Z",
     "start_time": "2023-05-24T21:17:51.545907399Z"
    }
   }
  },
  {
   "cell_type": "code",
   "execution_count": 57,
   "outputs": [],
   "source": [
    "dkm_x =  np.fromfile(\"classic4.dat\").reshape((7095, 4))"
   ],
   "metadata": {
    "collapsed": false,
    "ExecuteTime": {
     "end_time": "2023-05-24T21:17:51.941340017Z",
     "start_time": "2023-05-24T21:17:51.937063419Z"
    }
   }
  },
  {
   "cell_type": "code",
   "execution_count": 58,
   "outputs": [],
   "source": [
    "dkm_y = np.fromfile(\"classic4_labels.dat\",dtype=int).reshape(-1)"
   ],
   "metadata": {
    "collapsed": false,
    "ExecuteTime": {
     "end_time": "2023-05-24T21:17:52.306400806Z",
     "start_time": "2023-05-24T21:17:52.301472887Z"
    }
   }
  },
  {
   "cell_type": "code",
   "execution_count": 59,
   "outputs": [
    {
     "data": {
      "text/plain": "<Figure size 800x600 with 2 Axes>",
      "image/png": "[encoded data removed]"
     },
     "metadata": {},
     "output_type": "display_data"
    }
   ],
   "source": [
    "fig, ax = plt.subplots(figsize=(8, 6))\n",
    "fig.suptitle(\"2D projection of the X (DKM) matrix \\n\", size=12)\n",
    "\n",
    "\n",
    "scatter = ax.scatter(\n",
    "    x=dkm_x[:, 0],\n",
    "    y=dkm_x[:, 1],\n",
    "    c=dkm_y,\n",
    "    cmap='Accent',\n",
    "    s=2,\n",
    "    alpha=1\n",
    ")\n",
    "plt.setp(ax, xticks=[], yticks=[])\n",
    "cbar = fig.colorbar(scatter, ax=ax, boundaries=np.arange(5)-0.4)\n",
    "cbar.set_ticks(np.arange(4))\n",
    "cbar.set_ticklabels(classes, size=10)\n",
    "ax.set_title(\"dkm\", size=11)\n",
    "save_fig(f\"{document_name}_GLOVE_DKM_2Dplot\")\n",
    "plt.show()\n"
   ],
   "metadata": {
    "collapsed": false,
    "ExecuteTime": {
     "end_time": "2023-05-24T21:17:53.118817550Z",
     "start_time": "2023-05-24T21:17:52.635395809Z"
    }
   }
  },
  {
   "cell_type": "code",
   "execution_count": null,
   "outputs": [],
   "source": [],
   "metadata": {
    "collapsed": false
   }
  }
 ],
 "metadata": {
  "kernelspec": {
   "display_name": "Python 3",
   "language": "python",
   "name": "python3"
  },
  "language_info": {
   "codemirror_mode": {
    "name": "ipython",
    "version": 2
   },
   "file_extension": ".py",
   "mimetype": "text/x-python",
   "name": "python",
   "nbconvert_exporter": "python",
   "pygments_lexer": "ipython2",
   "version": "2.7.6"
  }
 },
 "nbformat": 4,
 "nbformat_minor": 0
}
