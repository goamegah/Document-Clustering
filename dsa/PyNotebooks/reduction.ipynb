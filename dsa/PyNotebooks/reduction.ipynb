{
 "cells": [
  {
   "cell_type": "code",
   "execution_count": 7,
   "metadata": {
    "collapsed": true
   },
   "outputs": [],
   "source": [
    "import pandas as pd\n",
    "import re\n",
    "file_name=\"/home/khaldi/Downloads/classic3.csv\""
   ]
  },
  {
   "cell_type": "code",
   "execution_count": 10,
   "outputs": [
    {
     "data": {
      "text/plain": "'https://www.analyticsvidhya.com/blog/2021/06/text-preprocessing-in-nlp-with-python-codes/'"
     },
     "execution_count": 10,
     "metadata": {},
     "output_type": "execute_result"
    }
   ],
   "source": [
    "tweet = re.sub(\"https?:\\/\\/\\/[A-Za-z0-9/]*\", '', \"https://www.analyticsvidhya.com/blog/2021/06/text-preprocessing-in-nlp-with-python-codes/\")\n",
    "tweet"
   ],
   "metadata": {
    "collapsed": false
   }
  },
  {
   "cell_type": "code",
   "execution_count": 5,
   "outputs": [],
   "source": [
    "df=pd.read_csv(file_name)"
   ],
   "metadata": {
    "collapsed": false
   }
  },
  {
   "cell_type": "code",
   "execution_count": 6,
   "outputs": [
    {
     "data": {
      "text/plain": "      Unnamed: 0                                               text label\n0              0  Milestones in Cataloging In the case of the pr...  cisi\n1              1  childhood psychosis. a description is given of...   med\n2              2  neonatal hepatitis or familial neonatal obstru...   med\n3              3  Handbook of Comparative Librarianship The firs...  cisi\n4              4  Design and Evaluation of Information Systems T...  cisi\n...          ...                                                ...   ...\n3886        3886  modification of autistic behavior with lsd-25....   med\n3887        3887  Patterns of Evaluation in Science: Institution...  cisi\n3888        3888  The government of the American Public Library ...  cisi\n3889        3889  base pressure at subsonic speeds in the presen...  cran\n3890        3890  throat and nose surgery in patients with const...   med\n\n[3891 rows x 3 columns]",
      "text/html": "<div>\n<style scoped>\n    .dataframe tbody tr th:only-of-type {\n        vertical-align: middle;\n    }\n\n    .dataframe tbody tr th {\n        vertical-align: top;\n    }\n\n    .dataframe thead th {\n        text-align: right;\n    }\n</style>\n<table border=\"1\" class=\"dataframe\">\n  <thead>\n    <tr style=\"text-align: right;\">\n      <th></th>\n      <th>Unnamed: 0</th>\n      <th>text</th>\n      <th>label</th>\n    </tr>\n  </thead>\n  <tbody>\n    <tr>\n      <th>0</th>\n      <td>0</td>\n      <td>Milestones in Cataloging In the case of the pr...</td>\n      <td>cisi</td>\n    </tr>\n    <tr>\n      <th>1</th>\n      <td>1</td>\n      <td>childhood psychosis. a description is given of...</td>\n      <td>med</td>\n    </tr>\n    <tr>\n      <th>2</th>\n      <td>2</td>\n      <td>neonatal hepatitis or familial neonatal obstru...</td>\n      <td>med</td>\n    </tr>\n    <tr>\n      <th>3</th>\n      <td>3</td>\n      <td>Handbook of Comparative Librarianship The firs...</td>\n      <td>cisi</td>\n    </tr>\n    <tr>\n      <th>4</th>\n      <td>4</td>\n      <td>Design and Evaluation of Information Systems T...</td>\n      <td>cisi</td>\n    </tr>\n    <tr>\n      <th>...</th>\n      <td>...</td>\n      <td>...</td>\n      <td>...</td>\n    </tr>\n    <tr>\n      <th>3886</th>\n      <td>3886</td>\n      <td>modification of autistic behavior with lsd-25....</td>\n      <td>med</td>\n    </tr>\n    <tr>\n      <th>3887</th>\n      <td>3887</td>\n      <td>Patterns of Evaluation in Science: Institution...</td>\n      <td>cisi</td>\n    </tr>\n    <tr>\n      <th>3888</th>\n      <td>3888</td>\n      <td>The government of the American Public Library ...</td>\n      <td>cisi</td>\n    </tr>\n    <tr>\n      <th>3889</th>\n      <td>3889</td>\n      <td>base pressure at subsonic speeds in the presen...</td>\n      <td>cran</td>\n    </tr>\n    <tr>\n      <th>3890</th>\n      <td>3890</td>\n      <td>throat and nose surgery in patients with const...</td>\n      <td>med</td>\n    </tr>\n  </tbody>\n</table>\n<p>3891 rows × 3 columns</p>\n</div>"
     },
     "execution_count": 6,
     "metadata": {},
     "output_type": "execute_result"
    }
   ],
   "source": [
    "df"
   ],
   "metadata": {
    "collapsed": false
   }
  },
  {
   "cell_type": "code",
   "execution_count": null,
   "outputs": [],
   "source": [],
   "metadata": {
    "collapsed": false
   }
  }
 ],
 "metadata": {
  "kernelspec": {
   "display_name": "Python 3",
   "language": "python",
   "name": "python3"
  },
  "language_info": {
   "codemirror_mode": {
    "name": "ipython",
    "version": 2
   },
   "file_extension": ".py",
   "mimetype": "text/x-python",
   "name": "python",
   "nbconvert_exporter": "python",
   "pygments_lexer": "ipython2",
   "version": "2.7.6"
  }
 },
 "nbformat": 4,
 "nbformat_minor": 0
}
