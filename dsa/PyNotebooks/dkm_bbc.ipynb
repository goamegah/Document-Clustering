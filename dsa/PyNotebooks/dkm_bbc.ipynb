{
 "cells": [
  {
   "cell_type": "code",
   "execution_count": 1,
   "metadata": {
    "collapsed": true,
    "ExecuteTime": {
     "start_time": "2023-05-22T20:15:54.146122Z",
     "end_time": "2023-05-22T20:16:46.735916Z"
    }
   },
   "outputs": [
    {
     "name": "stderr",
     "output_type": "stream",
     "text": [
      "2023-05-22 20:15:57.479323: I tensorflow/core/util/port.cc:110] oneDNN custom operations are on. You may see slightly different numerical results due to floating-point round-off errors from different computation orders. To turn them off, set the environment variable `TF_ENABLE_ONEDNN_OPTS=0`.\n",
      "2023-05-22 20:15:58.042848: I tensorflow/tsl/cuda/cudart_stub.cc:28] Could not find cuda drivers on your machine, GPU will not be used.\n",
      "2023-05-22 20:15:59.899130: I tensorflow/tsl/cuda/cudart_stub.cc:28] Could not find cuda drivers on your machine, GPU will not be used.\n",
      "2023-05-22 20:15:59.906714: I tensorflow/core/platform/cpu_feature_guard.cc:182] This TensorFlow binary is optimized to use available CPU instructions in performance-critical operations.\n",
      "To enable the following instructions: AVX2 AVX512F AVX512_VNNI FMA, in other operations, rebuild TensorFlow with the appropriate compiler flags.\n",
      "2023-05-22 20:16:18.030047: W tensorflow/compiler/tf2tensorrt/utils/py_utils.cc:38] TF-TRT Warning: Could not find TensorRT\n",
      "/home/khaldi/Documents/text-clustering/dkm_work/linear_assignment_.py:18: FutureWarning: The linear_assignment_ module is deprecated in 0.21 and will be removed from 0.23. Use scipy.optimize.linear_sum_assignment instead.\n",
      "  warnings.warn(\n"
     ]
    }
   ],
   "source": [
    "from dkm_work.dkm import deep_kmeans\n",
    "from globals import PARAMS"
   ]
  },
  {
   "cell_type": "code",
   "execution_count": 2,
   "outputs": [
    {
     "name": "stdout",
     "output_type": "stream",
     "text": [
      "Loading in word vectors...\n",
      "Finished loading in word vectors\n",
      "Numer of samples with no words found: 0 / 2225\n",
      "Dataset loaded...\n",
      "Hyperparameters...\n",
      "lambda = 1.0\n",
      "Run 0\n"
     ]
    },
    {
     "name": "stderr",
     "output_type": "stream",
     "text": [
      "/home/khaldi/Documents/text-clustering/dkm_work/compgraph.py:14: UserWarning: `tf.layers.dense` is deprecated and will be removed in a future version. Please use `tf.keras.layers.Dense` instead.\n",
      "  input = tf.compat.v1.layers.dense(inputs=input, units=dimension, activation=activation, name=name, reuse=tf.compat.v1.AUTO_REUSE)\n",
      "2023-05-22 20:21:15.421166: E tensorflow/compiler/xla/stream_executor/cuda/cuda_driver.cc:266] failed call to cuInit: CUDA_ERROR_NO_DEVICE: no CUDA-capable device is detected\n",
      "2023-05-22 20:21:15.421268: I tensorflow/compiler/xla/stream_executor/cuda/cuda_diagnostics.cc:168] retrieving CUDA diagnostic information for host: khaldi-Z590-GAMING-X\n",
      "2023-05-22 20:21:15.421435: I tensorflow/compiler/xla/stream_executor/cuda/cuda_diagnostics.cc:175] hostname: khaldi-Z590-GAMING-X\n",
      "2023-05-22 20:21:15.421838: I tensorflow/compiler/xla/stream_executor/cuda/cuda_diagnostics.cc:199] libcuda reported version is: 525.89.2\n",
      "2023-05-22 20:21:15.421931: I tensorflow/compiler/xla/stream_executor/cuda/cuda_diagnostics.cc:203] kernel reported version is: 525.89.2\n",
      "2023-05-22 20:21:15.421955: I tensorflow/compiler/xla/stream_executor/cuda/cuda_diagnostics.cc:309] kernel version seems to match DSO: 525.89.2\n",
      "2023-05-22 20:21:15.546462: I tensorflow/compiler/mlir/mlir_graph_optimization_pass.cc:353] MLIR V1 optimization pass is not enabled\n"
     ]
    },
    {
     "name": "stdout",
     "output_type": "stream",
     "text": [
      "Starting autoencoder pretraining...\n",
      "Pretraining step: epoch 0\n",
      "Pretraining step: epoch 1\n",
      "Pretraining step: epoch 2\n",
      "Pretraining step: epoch 3\n",
      "Pretraining step: epoch 4\n",
      "Pretraining step: epoch 5\n",
      "Pretraining step: epoch 6\n",
      "Pretraining step: epoch 7\n",
      "Pretraining step: epoch 8\n",
      "Pretraining step: epoch 9\n",
      "Pretraining step: epoch 10\n",
      "Pretraining step: epoch 11\n",
      "Pretraining step: epoch 12\n",
      "Pretraining step: epoch 13\n",
      "Pretraining step: epoch 14\n",
      "Pretraining step: epoch 15\n",
      "Pretraining step: epoch 16\n",
      "Pretraining step: epoch 17\n",
      "Pretraining step: epoch 18\n",
      "Pretraining step: epoch 19\n",
      "Pretraining step: epoch 20\n",
      "Pretraining step: epoch 21\n",
      "Pretraining step: epoch 22\n",
      "Pretraining step: epoch 23\n",
      "Pretraining step: epoch 24\n",
      "Pretraining step: epoch 25\n",
      "Pretraining step: epoch 26\n",
      "Pretraining step: epoch 27\n",
      "Pretraining step: epoch 28\n",
      "Pretraining step: epoch 29\n",
      "Pretraining step: epoch 30\n",
      "Pretraining step: epoch 31\n",
      "Pretraining step: epoch 32\n",
      "Pretraining step: epoch 33\n",
      "Pretraining step: epoch 34\n",
      "Pretraining step: epoch 35\n",
      "Pretraining step: epoch 36\n",
      "Pretraining step: epoch 37\n",
      "Pretraining step: epoch 38\n",
      "Pretraining step: epoch 39\n",
      "Pretraining step: epoch 40\n",
      "Pretraining step: epoch 41\n",
      "Pretraining step: epoch 42\n",
      "Pretraining step: epoch 43\n",
      "Pretraining step: epoch 44\n",
      "Pretraining step: epoch 45\n",
      "Pretraining step: epoch 46\n",
      "Pretraining step: epoch 47\n",
      "Pretraining step: epoch 48\n",
      "Pretraining step: epoch 49\n",
      "Running k-means on the learned embeddings...\n"
     ]
    },
    {
     "name": "stderr",
     "output_type": "stream",
     "text": [
      "/home/khaldi/.cache/pypoetry/virtualenvs/text-clust-h_mCOXh5-py3.10/lib/python3.10/site-packages/sklearn/cluster/_kmeans.py:870: FutureWarning: The default value of `n_init` will change from 10 to 'auto' in 1.4. Set the value of `n_init` explicitly to suppress the warning\n",
      "  warnings.warn(\n",
      "/home/khaldi/Documents/text-clustering/dkm_work/linear_assignment_.py:124: FutureWarning: The linear_assignment function is deprecated in 0.21 and will be removed from 0.23. Use scipy.optimize.linear_sum_assignment instead.\n",
      "  warnings.warn(\n"
     ]
    },
    {
     "name": "stdout",
     "output_type": "stream",
     "text": [
      "ACC 0.9060674157303371\n",
      "ARI 0.7789241298592853\n",
      "NMI 0.7640609483433707\n",
      "Starting DKM training...\n",
      "Training step: alpha[0]: 1000.0\n",
      "loss: 0.25516912\n",
      "ae loss: 0.24774352\n",
      "kmeans loss: 0.0074256137\n",
      "ACC 0.9191011235955057\n",
      "ARI 0.8098939565720904\n",
      "NMI 0.7885796892975285\n",
      "Training step: alpha[1]: 1000.0\n"
     ]
    },
    {
     "name": "stderr",
     "output_type": "stream",
     "text": [
      "/home/khaldi/Documents/text-clustering/dkm_work/linear_assignment_.py:124: FutureWarning: The linear_assignment function is deprecated in 0.21 and will be removed from 0.23. Use scipy.optimize.linear_sum_assignment instead.\n",
      "  warnings.warn(\n"
     ]
    },
    {
     "name": "stdout",
     "output_type": "stream",
     "text": [
      "loss: 0.22930475\n",
      "ae loss: 0.22420749\n",
      "kmeans loss: 0.0050972537\n",
      "ACC 0.9231460674157304\n",
      "ARI 0.8183551556218283\n",
      "NMI 0.7984671828936704\n",
      "Training step: alpha[2]: 1000.0\n"
     ]
    },
    {
     "name": "stderr",
     "output_type": "stream",
     "text": [
      "/home/khaldi/Documents/text-clustering/dkm_work/linear_assignment_.py:124: FutureWarning: The linear_assignment function is deprecated in 0.21 and will be removed from 0.23. Use scipy.optimize.linear_sum_assignment instead.\n",
      "  warnings.warn(\n"
     ]
    },
    {
     "name": "stdout",
     "output_type": "stream",
     "text": [
      "loss: 0.23259453\n",
      "ae loss: 0.22786006\n",
      "kmeans loss: 0.0047344672\n",
      "ACC 0.9289887640449438\n",
      "ARI 0.8314536267361665\n",
      "NMI 0.8129890410224261\n",
      "Training step: alpha[3]: 1000.0\n"
     ]
    },
    {
     "name": "stderr",
     "output_type": "stream",
     "text": [
      "/home/khaldi/Documents/text-clustering/dkm_work/linear_assignment_.py:124: FutureWarning: The linear_assignment function is deprecated in 0.21 and will be removed from 0.23. Use scipy.optimize.linear_sum_assignment instead.\n",
      "  warnings.warn(\n"
     ]
    },
    {
     "name": "stdout",
     "output_type": "stream",
     "text": [
      "loss: 0.22322488\n",
      "ae loss: 0.21914735\n",
      "kmeans loss: 0.004077519\n",
      "ACC 0.929438202247191\n",
      "ARI 0.8322330026751626\n",
      "NMI 0.8136780450155698\n",
      "Training step: alpha[4]: 1000.0\n"
     ]
    },
    {
     "name": "stderr",
     "output_type": "stream",
     "text": [
      "/home/khaldi/Documents/text-clustering/dkm_work/linear_assignment_.py:124: FutureWarning: The linear_assignment function is deprecated in 0.21 and will be removed from 0.23. Use scipy.optimize.linear_sum_assignment instead.\n",
      "  warnings.warn(\n"
     ]
    },
    {
     "name": "stdout",
     "output_type": "stream",
     "text": [
      "loss: 0.21671212\n",
      "ae loss: 0.2128545\n",
      "kmeans loss: 0.0038576177\n",
      "ACC 0.9267415730337079\n",
      "ARI 0.8260603226402642\n",
      "NMI 0.8087423579505374\n",
      "Training step: alpha[5]: 1000.0\n"
     ]
    },
    {
     "name": "stderr",
     "output_type": "stream",
     "text": [
      "/home/khaldi/Documents/text-clustering/dkm_work/linear_assignment_.py:124: FutureWarning: The linear_assignment function is deprecated in 0.21 and will be removed from 0.23. Use scipy.optimize.linear_sum_assignment instead.\n",
      "  warnings.warn(\n"
     ]
    },
    {
     "name": "stdout",
     "output_type": "stream",
     "text": [
      "loss: 0.19587818\n",
      "ae loss: 0.19197759\n",
      "kmeans loss: 0.003900588\n",
      "ACC 0.9258426966292135\n",
      "ARI 0.8238666230147643\n",
      "NMI 0.804627410199101\n",
      "Training step: alpha[6]: 1000.0\n"
     ]
    },
    {
     "name": "stderr",
     "output_type": "stream",
     "text": [
      "/home/khaldi/Documents/text-clustering/dkm_work/linear_assignment_.py:124: FutureWarning: The linear_assignment function is deprecated in 0.21 and will be removed from 0.23. Use scipy.optimize.linear_sum_assignment instead.\n",
      "  warnings.warn(\n"
     ]
    },
    {
     "name": "stdout",
     "output_type": "stream",
     "text": [
      "loss: 0.19102754\n",
      "ae loss: 0.18784034\n",
      "kmeans loss: 0.0031871884\n",
      "ACC 0.9249438202247191\n",
      "ARI 0.8221290054222782\n",
      "NMI 0.8012756999873837\n",
      "Training step: alpha[7]: 1000.0\n"
     ]
    },
    {
     "name": "stderr",
     "output_type": "stream",
     "text": [
      "/home/khaldi/Documents/text-clustering/dkm_work/linear_assignment_.py:124: FutureWarning: The linear_assignment function is deprecated in 0.21 and will be removed from 0.23. Use scipy.optimize.linear_sum_assignment instead.\n",
      "  warnings.warn(\n"
     ]
    },
    {
     "name": "stdout",
     "output_type": "stream",
     "text": [
      "loss: 0.1910446\n",
      "ae loss: 0.18742904\n",
      "kmeans loss: 0.0036155637\n",
      "ACC 0.9249438202247191\n",
      "ARI 0.821771104427886\n",
      "NMI 0.80124218651672\n",
      "Training step: alpha[8]: 1000.0\n"
     ]
    },
    {
     "name": "stderr",
     "output_type": "stream",
     "text": [
      "/home/khaldi/Documents/text-clustering/dkm_work/linear_assignment_.py:124: FutureWarning: The linear_assignment function is deprecated in 0.21 and will be removed from 0.23. Use scipy.optimize.linear_sum_assignment instead.\n",
      "  warnings.warn(\n"
     ]
    },
    {
     "name": "stdout",
     "output_type": "stream",
     "text": [
      "loss: 0.17508496\n",
      "ae loss: 0.17165667\n",
      "kmeans loss: 0.0034282939\n",
      "ACC 0.9249438202247191\n",
      "ARI 0.8222530393411016\n",
      "NMI 0.8015459334654681\n",
      "Training step: alpha[9]: 1000.0\n"
     ]
    },
    {
     "name": "stderr",
     "output_type": "stream",
     "text": [
      "/home/khaldi/Documents/text-clustering/dkm_work/linear_assignment_.py:124: FutureWarning: The linear_assignment function is deprecated in 0.21 and will be removed from 0.23. Use scipy.optimize.linear_sum_assignment instead.\n",
      "  warnings.warn(\n"
     ]
    },
    {
     "name": "stdout",
     "output_type": "stream",
     "text": [
      "loss: 0.17319076\n",
      "ae loss: 0.16936722\n",
      "kmeans loss: 0.0038235264\n",
      "ACC 0.9267415730337079\n",
      "ARI 0.826212326487604\n",
      "NMI 0.8038388029816201\n",
      "Training step: alpha[10]: 1000.0\n"
     ]
    },
    {
     "name": "stderr",
     "output_type": "stream",
     "text": [
      "/home/khaldi/Documents/text-clustering/dkm_work/linear_assignment_.py:124: FutureWarning: The linear_assignment function is deprecated in 0.21 and will be removed from 0.23. Use scipy.optimize.linear_sum_assignment instead.\n",
      "  warnings.warn(\n"
     ]
    },
    {
     "name": "stdout",
     "output_type": "stream",
     "text": [
      "loss: 0.16682503\n",
      "ae loss: 0.16354206\n",
      "kmeans loss: 0.003282967\n",
      "ACC 0.9240449438202247\n",
      "ARI 0.8204359327503852\n",
      "NMI 0.7967190665058925\n",
      "Training step: alpha[11]: 1000.0\n"
     ]
    },
    {
     "name": "stderr",
     "output_type": "stream",
     "text": [
      "/home/khaldi/Documents/text-clustering/dkm_work/linear_assignment_.py:124: FutureWarning: The linear_assignment function is deprecated in 0.21 and will be removed from 0.23. Use scipy.optimize.linear_sum_assignment instead.\n",
      "  warnings.warn(\n"
     ]
    },
    {
     "name": "stdout",
     "output_type": "stream",
     "text": [
      "loss: 0.16558112\n",
      "ae loss: 0.16210133\n",
      "kmeans loss: 0.0034798\n",
      "ACC 0.927191011235955\n",
      "ARI 0.8273409097509329\n",
      "NMI 0.8025037722040904\n",
      "Training step: alpha[12]: 1000.0\n"
     ]
    },
    {
     "name": "stderr",
     "output_type": "stream",
     "text": [
      "/home/khaldi/Documents/text-clustering/dkm_work/linear_assignment_.py:124: FutureWarning: The linear_assignment function is deprecated in 0.21 and will be removed from 0.23. Use scipy.optimize.linear_sum_assignment instead.\n",
      "  warnings.warn(\n"
     ]
    },
    {
     "name": "stdout",
     "output_type": "stream",
     "text": [
      "loss: 0.16527471\n",
      "ae loss: 0.16218618\n",
      "kmeans loss: 0.0030885376\n",
      "ACC 0.9258426966292135\n",
      "ARI 0.8241063712992905\n",
      "NMI 0.7999229383656441\n",
      "Training step: alpha[13]: 1000.0\n"
     ]
    },
    {
     "name": "stderr",
     "output_type": "stream",
     "text": [
      "/home/khaldi/Documents/text-clustering/dkm_work/linear_assignment_.py:124: FutureWarning: The linear_assignment function is deprecated in 0.21 and will be removed from 0.23. Use scipy.optimize.linear_sum_assignment instead.\n",
      "  warnings.warn(\n"
     ]
    },
    {
     "name": "stdout",
     "output_type": "stream",
     "text": [
      "loss: 0.15872343\n",
      "ae loss: 0.15560535\n",
      "kmeans loss: 0.003118076\n",
      "ACC 0.9267415730337079\n",
      "ARI 0.8264740982331763\n",
      "NMI 0.8023983567655834\n",
      "Training step: alpha[14]: 1000.0\n"
     ]
    },
    {
     "name": "stderr",
     "output_type": "stream",
     "text": [
      "/home/khaldi/Documents/text-clustering/dkm_work/linear_assignment_.py:124: FutureWarning: The linear_assignment function is deprecated in 0.21 and will be removed from 0.23. Use scipy.optimize.linear_sum_assignment instead.\n",
      "  warnings.warn(\n"
     ]
    },
    {
     "name": "stdout",
     "output_type": "stream",
     "text": [
      "loss: 0.1462852\n",
      "ae loss: 0.14338276\n",
      "kmeans loss: 0.0029024496\n",
      "ACC 0.9262921348314607\n",
      "ARI 0.8254778282050442\n",
      "NMI 0.8004930518061897\n",
      "Training step: alpha[15]: 1000.0\n"
     ]
    },
    {
     "name": "stderr",
     "output_type": "stream",
     "text": [
      "/home/khaldi/Documents/text-clustering/dkm_work/linear_assignment_.py:124: FutureWarning: The linear_assignment function is deprecated in 0.21 and will be removed from 0.23. Use scipy.optimize.linear_sum_assignment instead.\n",
      "  warnings.warn(\n"
     ]
    },
    {
     "name": "stdout",
     "output_type": "stream",
     "text": [
      "loss: 0.15092327\n",
      "ae loss: 0.14785224\n",
      "kmeans loss: 0.0030710204\n",
      "ACC 0.9258426966292135\n",
      "ARI 0.8244998108878465\n",
      "NMI 0.7992504755249509\n",
      "Training step: alpha[16]: 1000.0\n"
     ]
    },
    {
     "name": "stderr",
     "output_type": "stream",
     "text": [
      "/home/khaldi/Documents/text-clustering/dkm_work/linear_assignment_.py:124: FutureWarning: The linear_assignment function is deprecated in 0.21 and will be removed from 0.23. Use scipy.optimize.linear_sum_assignment instead.\n",
      "  warnings.warn(\n"
     ]
    },
    {
     "name": "stdout",
     "output_type": "stream",
     "text": [
      "loss: 0.14365426\n",
      "ae loss: 0.14056982\n",
      "kmeans loss: 0.0030844396\n",
      "ACC 0.9244943820224719\n",
      "ARI 0.8215877934779959\n",
      "NMI 0.797420215207678\n",
      "Training step: alpha[17]: 1000.0\n"
     ]
    },
    {
     "name": "stderr",
     "output_type": "stream",
     "text": [
      "/home/khaldi/Documents/text-clustering/dkm_work/linear_assignment_.py:124: FutureWarning: The linear_assignment function is deprecated in 0.21 and will be removed from 0.23. Use scipy.optimize.linear_sum_assignment instead.\n",
      "  warnings.warn(\n"
     ]
    },
    {
     "name": "stdout",
     "output_type": "stream",
     "text": [
      "loss: 0.1366007\n",
      "ae loss: 0.13330883\n",
      "kmeans loss: 0.0032918707\n",
      "ACC 0.9262921348314607\n",
      "ARI 0.825344083639747\n",
      "NMI 0.8014964905431254\n",
      "Training step: alpha[18]: 1000.0\n"
     ]
    },
    {
     "name": "stderr",
     "output_type": "stream",
     "text": [
      "/home/khaldi/Documents/text-clustering/dkm_work/linear_assignment_.py:124: FutureWarning: The linear_assignment function is deprecated in 0.21 and will be removed from 0.23. Use scipy.optimize.linear_sum_assignment instead.\n",
      "  warnings.warn(\n"
     ]
    },
    {
     "name": "stdout",
     "output_type": "stream",
     "text": [
      "loss: 0.13878307\n",
      "ae loss: 0.13563624\n",
      "kmeans loss: 0.0031468337\n",
      "ACC 0.9267415730337079\n",
      "ARI 0.8267281724212264\n",
      "NMI 0.8015128708689573\n",
      "Training step: alpha[19]: 1000.0\n"
     ]
    },
    {
     "name": "stderr",
     "output_type": "stream",
     "text": [
      "/home/khaldi/Documents/text-clustering/dkm_work/linear_assignment_.py:124: FutureWarning: The linear_assignment function is deprecated in 0.21 and will be removed from 0.23. Use scipy.optimize.linear_sum_assignment instead.\n",
      "  warnings.warn(\n"
     ]
    },
    {
     "name": "stdout",
     "output_type": "stream",
     "text": [
      "loss: 0.14007059\n",
      "ae loss: 0.13682023\n",
      "kmeans loss: 0.003250366\n",
      "ACC 0.9249438202247191\n",
      "ARI 0.8223334881483771\n",
      "NMI 0.7986194701513377\n",
      "Average ACC: 0.925 +/- 0.000\n",
      "Average ARI: 0.822 +/- 0.000\n",
      "Average NMI: 0.799 +/- 0.000\n"
     ]
    },
    {
     "name": "stderr",
     "output_type": "stream",
     "text": [
      "/home/khaldi/Documents/text-clustering/dkm_work/linear_assignment_.py:124: FutureWarning: The linear_assignment function is deprecated in 0.21 and will be removed from 0.23. Use scipy.optimize.linear_sum_assignment instead.\n",
      "  warnings.warn(\n"
     ]
    }
   ],
   "source": [
    "results=deep_kmeans(dataset=\"BBC\",params=PARAMS,n_runs=1)"
   ],
   "metadata": {
    "collapsed": false,
    "ExecuteTime": {
     "start_time": "2023-05-22T20:16:46.737837Z",
     "end_time": "2023-05-22T20:27:16.850895Z"
    }
   }
  },
  {
   "cell_type": "code",
   "execution_count": 8,
   "outputs": [],
   "source": [
    "results[\"embeddings\"].tofile(\"bbc.dat\")\n",
    "results[\"labels\"].tofile(\"bbc_labels.dat\")"
   ],
   "metadata": {
    "collapsed": false,
    "ExecuteTime": {
     "start_time": "2023-05-22T20:40:58.778487Z",
     "end_time": "2023-05-22T20:40:58.821955Z"
    }
   }
  },
  {
   "cell_type": "code",
   "execution_count": 5,
   "outputs": [
    {
     "data": {
      "text/plain": "(2225, 5)"
     },
     "execution_count": 5,
     "metadata": {},
     "output_type": "execute_result"
    }
   ],
   "source": [
    "results[\"embeddings\"].shape"
   ],
   "metadata": {
    "collapsed": false,
    "ExecuteTime": {
     "start_time": "2023-05-22T20:39:49.514454Z",
     "end_time": "2023-05-22T20:39:49.567772Z"
    }
   }
  },
  {
   "cell_type": "code",
   "execution_count": 9,
   "outputs": [
    {
     "data": {
      "text/plain": "(2225,)"
     },
     "execution_count": 9,
     "metadata": {},
     "output_type": "execute_result"
    }
   ],
   "source": [
    "results[\"labels\"].shape"
   ],
   "metadata": {
    "collapsed": false,
    "ExecuteTime": {
     "start_time": "2023-05-22T20:41:08.049687Z",
     "end_time": "2023-05-22T20:41:08.067360Z"
    }
   }
  },
  {
   "cell_type": "code",
   "execution_count": 4,
   "outputs": [
    {
     "data": {
      "text/plain": "{'labels': array([2, 2, 3, ..., 1, 1, 0]),\n 'acc': array([0.92494382]),\n 'ari': array([0.82233349]),\n 'nmi': array([0.79861947]),\n 'embeddings': array([[ 0.11118405, -0.06640324,  0.06989932, -0.08455795, -0.00775762],\n        [ 0.11175542, -0.08364283,  0.0143441 , -0.08232754, -0.01512595],\n        [-0.02802595,  0.08970331,  0.06800114, -0.06227987,  0.06296673],\n        ...,\n        [ 0.04553538,  0.05021638,  0.13987699, -0.0976721 , -0.06461573],\n        [ 0.02362213,  0.07754399,  0.1389493 , -0.09204584, -0.01073547],\n        [ 0.00470741, -0.03719113,  0.00308043, -0.1277764 ,  0.00693145]])}"
     },
     "execution_count": 4,
     "metadata": {},
     "output_type": "execute_result"
    }
   ],
   "source": [
    "results"
   ],
   "metadata": {
    "collapsed": false,
    "ExecuteTime": {
     "start_time": "2023-05-22T20:37:14.570247Z",
     "end_time": "2023-05-22T20:37:14.614007Z"
    }
   }
  },
  {
   "cell_type": "code",
   "execution_count": 6,
   "outputs": [
    {
     "data": {
      "text/plain": "array([[ 0.11118405, -0.06640324,  0.06989932, -0.08455795, -0.00775762],\n       [ 0.11175542, -0.08364283,  0.0143441 , -0.08232754, -0.01512595],\n       [-0.02802595,  0.08970331,  0.06800114, -0.06227987,  0.06296673],\n       ...,\n       [ 0.04553538,  0.05021638,  0.13987699, -0.0976721 , -0.06461573],\n       [ 0.02362213,  0.07754399,  0.1389493 , -0.09204584, -0.01073547],\n       [ 0.00470741, -0.03719113,  0.00308043, -0.1277764 ,  0.00693145]])"
     },
     "execution_count": 6,
     "metadata": {},
     "output_type": "execute_result"
    }
   ],
   "source": [
    "import numpy as np\n",
    "np.fromfile(\"bbc.dat\").reshape((2225, 5))"
   ],
   "metadata": {
    "collapsed": false,
    "ExecuteTime": {
     "start_time": "2023-05-22T20:40:19.233065Z",
     "end_time": "2023-05-22T20:40:19.274154Z"
    }
   }
  },
  {
   "cell_type": "code",
   "execution_count": 12,
   "outputs": [
    {
     "data": {
      "text/plain": "array([2, 2, 3, ..., 1, 1, 0])"
     },
     "execution_count": 12,
     "metadata": {},
     "output_type": "execute_result"
    }
   ],
   "source": [
    "np.fromfile(\"bbc_labels.dat\",dtype=int).reshape(-1)"
   ],
   "metadata": {
    "collapsed": false,
    "ExecuteTime": {
     "start_time": "2023-05-22T20:43:43.504706Z",
     "end_time": "2023-05-22T20:43:43.516130Z"
    }
   }
  }
 ],
 "metadata": {
  "kernelspec": {
   "display_name": "Python 3",
   "language": "python",
   "name": "python3"
  },
  "language_info": {
   "codemirror_mode": {
    "name": "ipython",
    "version": 2
   },
   "file_extension": ".py",
   "mimetype": "text/x-python",
   "name": "python",
   "nbconvert_exporter": "python",
   "pygments_lexer": "ipython2",
   "version": "2.7.6"
  }
 },
 "nbformat": 4,
 "nbformat_minor": 0
}
