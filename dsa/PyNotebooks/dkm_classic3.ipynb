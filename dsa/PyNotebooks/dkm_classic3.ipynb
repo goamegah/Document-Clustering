{
 "cells": [
  {
   "cell_type": "code",
   "execution_count": 1,
   "metadata": {
    "collapsed": true,
    "ExecuteTime": {
     "start_time": "2023-05-22T20:15:53.870129Z",
     "end_time": "2023-05-22T20:16:46.735159Z"
    }
   },
   "outputs": [
    {
     "name": "stderr",
     "output_type": "stream",
     "text": [
      "2023-05-22 20:15:57.479323: I tensorflow/core/util/port.cc:110] oneDNN custom operations are on. You may see slightly different numerical results due to floating-point round-off errors from different computation orders. To turn them off, set the environment variable `TF_ENABLE_ONEDNN_OPTS=0`.\n",
      "2023-05-22 20:15:58.042917: I tensorflow/tsl/cuda/cudart_stub.cc:28] Could not find cuda drivers on your machine, GPU will not be used.\n",
      "2023-05-22 20:15:59.899166: I tensorflow/tsl/cuda/cudart_stub.cc:28] Could not find cuda drivers on your machine, GPU will not be used.\n",
      "2023-05-22 20:15:59.906714: I tensorflow/core/platform/cpu_feature_guard.cc:182] This TensorFlow binary is optimized to use available CPU instructions in performance-critical operations.\n",
      "To enable the following instructions: AVX2 AVX512F AVX512_VNNI FMA, in other operations, rebuild TensorFlow with the appropriate compiler flags.\n",
      "2023-05-22 20:16:18.030046: W tensorflow/compiler/tf2tensorrt/utils/py_utils.cc:38] TF-TRT Warning: Could not find TensorRT\n",
      "/home/khaldi/Documents/text-clustering/dkm_work/linear_assignment_.py:18: FutureWarning: The linear_assignment_ module is deprecated in 0.21 and will be removed from 0.23. Use scipy.optimize.linear_sum_assignment instead.\n",
      "  warnings.warn(\n"
     ]
    }
   ],
   "source": [
    "import numpy as np\n",
    "\n",
    "from dkm_work.dkm import deep_kmeans\n",
    "from globals import PARAMS"
   ]
  },
  {
   "cell_type": "code",
   "execution_count": 2,
   "outputs": [
    {
     "name": "stdout",
     "output_type": "stream",
     "text": [
      "Loading in word vectors...\n",
      "Finished loading in word vectors\n",
      "Numer of samples with no words found: 0 / 3891\n",
      "Dataset loaded...\n",
      "Hyperparameters...\n",
      "lambda = 1.0\n",
      "Run 0\n"
     ]
    },
    {
     "name": "stderr",
     "output_type": "stream",
     "text": [
      "/home/khaldi/Documents/text-clustering/dkm_work/compgraph.py:14: UserWarning: `tf.layers.dense` is deprecated and will be removed in a future version. Please use `tf.keras.layers.Dense` instead.\n",
      "  input = tf.compat.v1.layers.dense(inputs=input, units=dimension, activation=activation, name=name, reuse=tf.compat.v1.AUTO_REUSE)\n",
      "2023-05-22 20:21:15.421172: E tensorflow/compiler/xla/stream_executor/cuda/cuda_driver.cc:266] failed call to cuInit: CUDA_ERROR_NO_DEVICE: no CUDA-capable device is detected\n",
      "2023-05-22 20:21:15.421279: I tensorflow/compiler/xla/stream_executor/cuda/cuda_diagnostics.cc:168] retrieving CUDA diagnostic information for host: khaldi-Z590-GAMING-X\n",
      "2023-05-22 20:21:15.421324: I tensorflow/compiler/xla/stream_executor/cuda/cuda_diagnostics.cc:175] hostname: khaldi-Z590-GAMING-X\n",
      "2023-05-22 20:21:15.421733: I tensorflow/compiler/xla/stream_executor/cuda/cuda_diagnostics.cc:199] libcuda reported version is: 525.89.2\n",
      "2023-05-22 20:21:15.421840: I tensorflow/compiler/xla/stream_executor/cuda/cuda_diagnostics.cc:203] kernel reported version is: 525.89.2\n",
      "2023-05-22 20:21:15.421863: I tensorflow/compiler/xla/stream_executor/cuda/cuda_diagnostics.cc:309] kernel version seems to match DSO: 525.89.2\n",
      "2023-05-22 20:21:15.546404: I tensorflow/compiler/mlir/mlir_graph_optimization_pass.cc:353] MLIR V1 optimization pass is not enabled\n"
     ]
    },
    {
     "name": "stdout",
     "output_type": "stream",
     "text": [
      "Starting autoencoder pretraining...\n",
      "Pretraining step: epoch 0\n",
      "Pretraining step: epoch 1\n",
      "Pretraining step: epoch 2\n",
      "Pretraining step: epoch 3\n",
      "Pretraining step: epoch 4\n",
      "Pretraining step: epoch 5\n",
      "Pretraining step: epoch 6\n",
      "Pretraining step: epoch 7\n",
      "Pretraining step: epoch 8\n",
      "Pretraining step: epoch 9\n",
      "Pretraining step: epoch 10\n",
      "Pretraining step: epoch 11\n",
      "Pretraining step: epoch 12\n",
      "Pretraining step: epoch 13\n",
      "Pretraining step: epoch 14\n",
      "Pretraining step: epoch 15\n",
      "Pretraining step: epoch 16\n",
      "Pretraining step: epoch 17\n",
      "Pretraining step: epoch 18\n",
      "Pretraining step: epoch 19\n",
      "Pretraining step: epoch 20\n",
      "Pretraining step: epoch 21\n",
      "Pretraining step: epoch 22\n",
      "Pretraining step: epoch 23\n",
      "Pretraining step: epoch 24\n",
      "Pretraining step: epoch 25\n",
      "Pretraining step: epoch 26\n",
      "Pretraining step: epoch 27\n",
      "Pretraining step: epoch 28\n",
      "Pretraining step: epoch 29\n",
      "Pretraining step: epoch 30\n",
      "Pretraining step: epoch 31\n",
      "Pretraining step: epoch 32\n",
      "Pretraining step: epoch 33\n",
      "Pretraining step: epoch 34\n",
      "Pretraining step: epoch 35\n",
      "Pretraining step: epoch 36\n",
      "Pretraining step: epoch 37\n",
      "Pretraining step: epoch 38\n",
      "Pretraining step: epoch 39\n",
      "Pretraining step: epoch 40\n",
      "Pretraining step: epoch 41\n",
      "Pretraining step: epoch 42\n",
      "Pretraining step: epoch 43\n",
      "Pretraining step: epoch 44\n",
      "Pretraining step: epoch 45\n",
      "Pretraining step: epoch 46\n",
      "Pretraining step: epoch 47\n",
      "Pretraining step: epoch 48\n",
      "Pretraining step: epoch 49\n",
      "Running k-means on the learned embeddings...\n"
     ]
    },
    {
     "name": "stderr",
     "output_type": "stream",
     "text": [
      "/home/khaldi/.cache/pypoetry/virtualenvs/text-clust-h_mCOXh5-py3.10/lib/python3.10/site-packages/sklearn/cluster/_kmeans.py:870: FutureWarning: The default value of `n_init` will change from 10 to 'auto' in 1.4. Set the value of `n_init` explicitly to suppress the warning\n",
      "  warnings.warn(\n",
      "/home/khaldi/Documents/text-clustering/dkm_work/linear_assignment_.py:124: FutureWarning: The linear_assignment function is deprecated in 0.21 and will be removed from 0.23. Use scipy.optimize.linear_sum_assignment instead.\n",
      "  warnings.warn(\n"
     ]
    },
    {
     "name": "stdout",
     "output_type": "stream",
     "text": [
      "ACC 0.9773837059881778\n",
      "ARI 0.9343992429560071\n",
      "NMI 0.9016248307207093\n",
      "Starting DKM training...\n",
      "Training step: alpha[0]: 1000.0\n",
      "loss: 0.46885508\n",
      "ae loss: 0.46337166\n",
      "kmeans loss: 0.0054834066\n",
      "ACC 0.9953739398612182\n",
      "ARI 0.9863766936773027\n",
      "NMI 0.9720893243516109\n",
      "Training step: alpha[1]: 1000.0\n"
     ]
    },
    {
     "name": "stderr",
     "output_type": "stream",
     "text": [
      "/home/khaldi/Documents/text-clustering/dkm_work/linear_assignment_.py:124: FutureWarning: The linear_assignment function is deprecated in 0.21 and will be removed from 0.23. Use scipy.optimize.linear_sum_assignment instead.\n",
      "  warnings.warn(\n"
     ]
    },
    {
     "name": "stdout",
     "output_type": "stream",
     "text": [
      "loss: 0.4448965\n",
      "ae loss: 0.4407891\n",
      "kmeans loss: 0.004107381\n",
      "ACC 0.9940889231560011\n",
      "ARI 0.9828006426823308\n",
      "NMI 0.9653925986267189\n",
      "Training step: alpha[2]: 1000.0\n"
     ]
    },
    {
     "name": "stderr",
     "output_type": "stream",
     "text": [
      "/home/khaldi/Documents/text-clustering/dkm_work/linear_assignment_.py:124: FutureWarning: The linear_assignment function is deprecated in 0.21 and will be removed from 0.23. Use scipy.optimize.linear_sum_assignment instead.\n",
      "  warnings.warn(\n"
     ]
    },
    {
     "name": "stdout",
     "output_type": "stream",
     "text": [
      "loss: 0.4122602\n",
      "ae loss: 0.40888062\n",
      "kmeans loss: 0.0033795726\n",
      "ACC 0.9935749164739142\n",
      "ARI 0.9811467310280544\n",
      "NMI 0.9621549512029168\n",
      "Training step: alpha[3]: 1000.0\n"
     ]
    },
    {
     "name": "stderr",
     "output_type": "stream",
     "text": [
      "/home/khaldi/Documents/text-clustering/dkm_work/linear_assignment_.py:124: FutureWarning: The linear_assignment function is deprecated in 0.21 and will be removed from 0.23. Use scipy.optimize.linear_sum_assignment instead.\n",
      "  warnings.warn(\n"
     ]
    },
    {
     "name": "stdout",
     "output_type": "stream",
     "text": [
      "loss: 0.43300605\n",
      "ae loss: 0.42961532\n",
      "kmeans loss: 0.003390736\n",
      "ACC 0.9928039064507839\n",
      "ARI 0.9787151356938226\n",
      "NMI 0.9588636662982526\n",
      "Training step: alpha[4]: 1000.0\n"
     ]
    },
    {
     "name": "stderr",
     "output_type": "stream",
     "text": [
      "/home/khaldi/Documents/text-clustering/dkm_work/linear_assignment_.py:124: FutureWarning: The linear_assignment function is deprecated in 0.21 and will be removed from 0.23. Use scipy.optimize.linear_sum_assignment instead.\n",
      "  warnings.warn(\n"
     ]
    },
    {
     "name": "stdout",
     "output_type": "stream",
     "text": [
      "loss: 0.40449086\n",
      "ae loss: 0.40193343\n",
      "kmeans loss: 0.0025574262\n",
      "ACC 0.9928039064507839\n",
      "ARI 0.9786317891526237\n",
      "NMI 0.9582717012055223\n",
      "Training step: alpha[5]: 1000.0\n"
     ]
    },
    {
     "name": "stderr",
     "output_type": "stream",
     "text": [
      "/home/khaldi/Documents/text-clustering/dkm_work/linear_assignment_.py:124: FutureWarning: The linear_assignment function is deprecated in 0.21 and will be removed from 0.23. Use scipy.optimize.linear_sum_assignment instead.\n",
      "  warnings.warn(\n"
     ]
    },
    {
     "name": "stdout",
     "output_type": "stream",
     "text": [
      "loss: 0.39267737\n",
      "ae loss: 0.3894263\n",
      "kmeans loss: 0.0032510685\n",
      "ACC 0.9930609097918273\n",
      "ARI 0.9793428031786076\n",
      "NMI 0.9596383589966264\n",
      "Training step: alpha[6]: 1000.0\n"
     ]
    },
    {
     "name": "stderr",
     "output_type": "stream",
     "text": [
      "/home/khaldi/Documents/text-clustering/dkm_work/linear_assignment_.py:124: FutureWarning: The linear_assignment function is deprecated in 0.21 and will be removed from 0.23. Use scipy.optimize.linear_sum_assignment instead.\n",
      "  warnings.warn(\n"
     ]
    },
    {
     "name": "stdout",
     "output_type": "stream",
     "text": [
      "loss: 0.39067557\n",
      "ae loss: 0.3874769\n",
      "kmeans loss: 0.0031986807\n",
      "ACC 0.9917758930866101\n",
      "ARI 0.9753530438543611\n",
      "NMI 0.9542125587057894\n",
      "Training step: alpha[7]: 1000.0\n"
     ]
    },
    {
     "name": "stderr",
     "output_type": "stream",
     "text": [
      "/home/khaldi/Documents/text-clustering/dkm_work/linear_assignment_.py:124: FutureWarning: The linear_assignment function is deprecated in 0.21 and will be removed from 0.23. Use scipy.optimize.linear_sum_assignment instead.\n",
      "  warnings.warn(\n"
     ]
    },
    {
     "name": "stdout",
     "output_type": "stream",
     "text": [
      "loss: 0.36757538\n",
      "ae loss: 0.3647102\n",
      "kmeans loss: 0.0028651627\n",
      "ACC 0.9910048830634798\n",
      "ARI 0.9726594645081409\n",
      "NMI 0.9502680903784956\n",
      "Training step: alpha[8]: 1000.0\n"
     ]
    },
    {
     "name": "stderr",
     "output_type": "stream",
     "text": [
      "/home/khaldi/Documents/text-clustering/dkm_work/linear_assignment_.py:124: FutureWarning: The linear_assignment function is deprecated in 0.21 and will be removed from 0.23. Use scipy.optimize.linear_sum_assignment instead.\n",
      "  warnings.warn(\n"
     ]
    },
    {
     "name": "stdout",
     "output_type": "stream",
     "text": [
      "loss: 0.34683982\n",
      "ae loss: 0.3437475\n",
      "kmeans loss: 0.0030923192\n",
      "ACC 0.9907478797224364\n",
      "ARI 0.9720959544190517\n",
      "NMI 0.9483639443818106\n",
      "Training step: alpha[9]: 1000.0\n"
     ]
    },
    {
     "name": "stderr",
     "output_type": "stream",
     "text": [
      "/home/khaldi/Documents/text-clustering/dkm_work/linear_assignment_.py:124: FutureWarning: The linear_assignment function is deprecated in 0.21 and will be removed from 0.23. Use scipy.optimize.linear_sum_assignment instead.\n",
      "  warnings.warn(\n"
     ]
    },
    {
     "name": "stdout",
     "output_type": "stream",
     "text": [
      "loss: 0.35404766\n",
      "ae loss: 0.35095513\n",
      "kmeans loss: 0.0030925388\n",
      "ACC 0.9897198663582627\n",
      "ARI 0.9690010359952062\n",
      "NMI 0.9434071405231733\n",
      "Training step: alpha[10]: 1000.0\n"
     ]
    },
    {
     "name": "stderr",
     "output_type": "stream",
     "text": [
      "/home/khaldi/Documents/text-clustering/dkm_work/linear_assignment_.py:124: FutureWarning: The linear_assignment function is deprecated in 0.21 and will be removed from 0.23. Use scipy.optimize.linear_sum_assignment instead.\n",
      "  warnings.warn(\n"
     ]
    },
    {
     "name": "stdout",
     "output_type": "stream",
     "text": [
      "loss: 0.36639443\n",
      "ae loss: 0.36272877\n",
      "kmeans loss: 0.003665666\n",
      "ACC 0.9912618864045233\n",
      "ARI 0.9737642669582448\n",
      "NMI 0.9504543755098548\n",
      "Training step: alpha[11]: 1000.0\n"
     ]
    },
    {
     "name": "stderr",
     "output_type": "stream",
     "text": [
      "/home/khaldi/Documents/text-clustering/dkm_work/linear_assignment_.py:124: FutureWarning: The linear_assignment function is deprecated in 0.21 and will be removed from 0.23. Use scipy.optimize.linear_sum_assignment instead.\n",
      "  warnings.warn(\n"
     ]
    },
    {
     "name": "stdout",
     "output_type": "stream",
     "text": [
      "loss: 0.3526646\n",
      "ae loss: 0.34946305\n",
      "kmeans loss: 0.0032015415\n",
      "ACC 0.9917758930866101\n",
      "ARI 0.9753120502281912\n",
      "NMI 0.9527879386868433\n",
      "Training step: alpha[12]: 1000.0\n"
     ]
    },
    {
     "name": "stderr",
     "output_type": "stream",
     "text": [
      "/home/khaldi/Documents/text-clustering/dkm_work/linear_assignment_.py:124: FutureWarning: The linear_assignment function is deprecated in 0.21 and will be removed from 0.23. Use scipy.optimize.linear_sum_assignment instead.\n",
      "  warnings.warn(\n"
     ]
    },
    {
     "name": "stdout",
     "output_type": "stream",
     "text": [
      "loss: 0.35377297\n",
      "ae loss: 0.35053337\n",
      "kmeans loss: 0.0032396032\n",
      "ACC 0.9910048830634798\n",
      "ARI 0.973054814769128\n",
      "NMI 0.9491159782875433\n",
      "Training step: alpha[13]: 1000.0\n"
     ]
    },
    {
     "name": "stderr",
     "output_type": "stream",
     "text": [
      "/home/khaldi/Documents/text-clustering/dkm_work/linear_assignment_.py:124: FutureWarning: The linear_assignment function is deprecated in 0.21 and will be removed from 0.23. Use scipy.optimize.linear_sum_assignment instead.\n",
      "  warnings.warn(\n"
     ]
    },
    {
     "name": "stdout",
     "output_type": "stream",
     "text": [
      "loss: 0.3406132\n",
      "ae loss: 0.337429\n",
      "kmeans loss: 0.003184202\n",
      "ACC 0.9902338730403495\n",
      "ARI 0.9705643462536274\n",
      "NMI 0.944998929223664\n",
      "Training step: alpha[14]: 1000.0\n"
     ]
    },
    {
     "name": "stderr",
     "output_type": "stream",
     "text": [
      "/home/khaldi/Documents/text-clustering/dkm_work/linear_assignment_.py:124: FutureWarning: The linear_assignment function is deprecated in 0.21 and will be removed from 0.23. Use scipy.optimize.linear_sum_assignment instead.\n",
      "  warnings.warn(\n"
     ]
    },
    {
     "name": "stdout",
     "output_type": "stream",
     "text": [
      "loss: 0.34052336\n",
      "ae loss: 0.33719134\n",
      "kmeans loss: 0.0033320175\n",
      "ACC 0.9889488563351324\n",
      "ARI 0.9666616485472096\n",
      "NMI 0.9387814347186382\n",
      "Training step: alpha[15]: 1000.0\n"
     ]
    },
    {
     "name": "stderr",
     "output_type": "stream",
     "text": [
      "/home/khaldi/Documents/text-clustering/dkm_work/linear_assignment_.py:124: FutureWarning: The linear_assignment function is deprecated in 0.21 and will be removed from 0.23. Use scipy.optimize.linear_sum_assignment instead.\n",
      "  warnings.warn(\n"
     ]
    },
    {
     "name": "stdout",
     "output_type": "stream",
     "text": [
      "loss: 0.33919352\n",
      "ae loss: 0.33591288\n",
      "kmeans loss: 0.0032806247\n",
      "ACC 0.988177846312002\n",
      "ARI 0.9641624536516689\n",
      "NMI 0.9362227220008952\n",
      "Training step: alpha[16]: 1000.0\n"
     ]
    },
    {
     "name": "stderr",
     "output_type": "stream",
     "text": [
      "/home/khaldi/Documents/text-clustering/dkm_work/linear_assignment_.py:124: FutureWarning: The linear_assignment function is deprecated in 0.21 and will be removed from 0.23. Use scipy.optimize.linear_sum_assignment instead.\n",
      "  warnings.warn(\n"
     ]
    },
    {
     "name": "stdout",
     "output_type": "stream",
     "text": [
      "loss: 0.32709125\n",
      "ae loss: 0.3235626\n",
      "kmeans loss: 0.0035286674\n",
      "ACC 0.9876638396299152\n",
      "ARI 0.962627686648766\n",
      "NMI 0.9331249439699909\n",
      "Training step: alpha[17]: 1000.0\n"
     ]
    },
    {
     "name": "stderr",
     "output_type": "stream",
     "text": [
      "/home/khaldi/Documents/text-clustering/dkm_work/linear_assignment_.py:124: FutureWarning: The linear_assignment function is deprecated in 0.21 and will be removed from 0.23. Use scipy.optimize.linear_sum_assignment instead.\n",
      "  warnings.warn(\n"
     ]
    },
    {
     "name": "stdout",
     "output_type": "stream",
     "text": [
      "loss: 0.3102426\n",
      "ae loss: 0.30706212\n",
      "kmeans loss: 0.0031804666\n",
      "ACC 0.9879208429709586\n",
      "ARI 0.9633600303001308\n",
      "NMI 0.9350502320450962\n",
      "Training step: alpha[18]: 1000.0\n"
     ]
    },
    {
     "name": "stderr",
     "output_type": "stream",
     "text": [
      "/home/khaldi/Documents/text-clustering/dkm_work/linear_assignment_.py:124: FutureWarning: The linear_assignment function is deprecated in 0.21 and will be removed from 0.23. Use scipy.optimize.linear_sum_assignment instead.\n",
      "  warnings.warn(\n"
     ]
    },
    {
     "name": "stdout",
     "output_type": "stream",
     "text": [
      "loss: 0.30296525\n",
      "ae loss: 0.29960477\n",
      "kmeans loss: 0.0033604724\n",
      "ACC 0.988177846312002\n",
      "ARI 0.9639654185808285\n",
      "NMI 0.9361496424261921\n",
      "Training step: alpha[19]: 1000.0\n"
     ]
    },
    {
     "name": "stderr",
     "output_type": "stream",
     "text": [
      "/home/khaldi/Documents/text-clustering/dkm_work/linear_assignment_.py:124: FutureWarning: The linear_assignment function is deprecated in 0.21 and will be removed from 0.23. Use scipy.optimize.linear_sum_assignment instead.\n",
      "  warnings.warn(\n"
     ]
    },
    {
     "name": "stdout",
     "output_type": "stream",
     "text": [
      "loss: 0.30578712\n",
      "ae loss: 0.30218574\n",
      "kmeans loss: 0.0036013806\n",
      "ACC 0.9868928296067849\n",
      "ARI 0.9601745950198481\n",
      "NMI 0.9297809902573726\n",
      "Average ACC: 0.987 +/- 0.000\n",
      "Average ARI: 0.960 +/- 0.000\n",
      "Average NMI: 0.930 +/- 0.000\n"
     ]
    },
    {
     "name": "stderr",
     "output_type": "stream",
     "text": [
      "/home/khaldi/Documents/text-clustering/dkm_work/linear_assignment_.py:124: FutureWarning: The linear_assignment function is deprecated in 0.21 and will be removed from 0.23. Use scipy.optimize.linear_sum_assignment instead.\n",
      "  warnings.warn(\n"
     ]
    }
   ],
   "source": [
    "results=deep_kmeans(dataset=\"CLASSIC3\",params=PARAMS,n_runs=1)"
   ],
   "metadata": {
    "collapsed": false,
    "ExecuteTime": {
     "start_time": "2023-05-22T20:16:46.769569Z",
     "end_time": "2023-05-22T20:30:26.498342Z"
    }
   }
  },
  {
   "cell_type": "code",
   "execution_count": 11,
   "outputs": [],
   "source": [
    "results[\"embeddings\"].tofile(\"classic3.dat\")\n",
    "results[\"labels\"].tofile(\"classic3_labels.dat\")"
   ],
   "metadata": {
    "collapsed": false,
    "ExecuteTime": {
     "start_time": "2023-05-22T20:42:08.299284Z",
     "end_time": "2023-05-22T20:42:08.341975Z"
    }
   }
  },
  {
   "cell_type": "code",
   "execution_count": 9,
   "outputs": [
    {
     "data": {
      "text/plain": "(3891, 3)"
     },
     "execution_count": 9,
     "metadata": {},
     "output_type": "execute_result"
    }
   ],
   "source": [
    "results[\"embeddings\"].shape"
   ],
   "metadata": {
    "collapsed": false,
    "ExecuteTime": {
     "start_time": "2023-05-22T20:38:51.263770Z",
     "end_time": "2023-05-22T20:38:51.306068Z"
    }
   }
  },
  {
   "cell_type": "code",
   "execution_count": 12,
   "outputs": [
    {
     "data": {
      "text/plain": "(3891,)"
     },
     "execution_count": 12,
     "metadata": {},
     "output_type": "execute_result"
    }
   ],
   "source": [
    "results[\"labels\"].shape"
   ],
   "metadata": {
    "collapsed": false,
    "ExecuteTime": {
     "start_time": "2023-05-22T20:42:15.993902Z",
     "end_time": "2023-05-22T20:42:15.999688Z"
    }
   }
  },
  {
   "cell_type": "code",
   "execution_count": 6,
   "outputs": [
    {
     "data": {
      "text/plain": "{'labels': array([1, 2, 0, ..., 2, 2, 2]),\n 'acc': array([0.98689283]),\n 'ari': array([0.9601746]),\n 'nmi': array([0.92978099]),\n 'embeddings': array([[ 0.05714232, -0.00033602, -0.03094873],\n        [ 0.10085943, -0.06330878,  0.04493997],\n        [-0.06428764, -0.06562832,  0.02980515],\n        ...,\n        [ 0.11902719, -0.01984355,  0.03004815],\n        [ 0.10409694, -0.05628774,  0.03800723],\n        [ 0.12963788, -0.05353651,  0.04091854]])}"
     },
     "execution_count": 6,
     "metadata": {},
     "output_type": "execute_result"
    }
   ],
   "source": [
    "results"
   ],
   "metadata": {
    "collapsed": false,
    "ExecuteTime": {
     "start_time": "2023-05-22T20:37:20.528764Z",
     "end_time": "2023-05-22T20:37:20.569961Z"
    }
   }
  },
  {
   "cell_type": "code",
   "execution_count": 10,
   "outputs": [
    {
     "data": {
      "text/plain": "array([[ 0.05714232, -0.00033602, -0.03094873],\n       [ 0.10085943, -0.06330878,  0.04493997],\n       [-0.06428764, -0.06562832,  0.02980515],\n       ...,\n       [ 0.11902719, -0.01984355,  0.03004815],\n       [ 0.10409694, -0.05628774,  0.03800723],\n       [ 0.12963788, -0.05353651,  0.04091854]])"
     },
     "execution_count": 10,
     "metadata": {},
     "output_type": "execute_result"
    }
   ],
   "source": [
    "import numpy as np\n",
    "np.fromfile(\"classic3.dat\").reshape(((3891, 3)))"
   ],
   "metadata": {
    "collapsed": false,
    "ExecuteTime": {
     "start_time": "2023-05-22T20:39:02.281941Z",
     "end_time": "2023-05-22T20:39:02.326196Z"
    }
   }
  },
  {
   "cell_type": "code",
   "execution_count": 15,
   "outputs": [
    {
     "data": {
      "text/plain": "array([1, 2, 0, ..., 2, 2, 2])"
     },
     "execution_count": 15,
     "metadata": {},
     "output_type": "execute_result"
    }
   ],
   "source": [
    "np.fromfile(\"classic3_labels.dat\",dtype=int).reshape(-1)"
   ],
   "metadata": {
    "collapsed": false,
    "ExecuteTime": {
     "start_time": "2023-05-22T20:43:18.879623Z",
     "end_time": "2023-05-22T20:43:18.886359Z"
    }
   }
  }
 ],
 "metadata": {
  "kernelspec": {
   "display_name": "Python 3",
   "language": "python",
   "name": "python3"
  },
  "language_info": {
   "codemirror_mode": {
    "name": "ipython",
    "version": 2
   },
   "file_extension": ".py",
   "mimetype": "text/x-python",
   "name": "python",
   "nbconvert_exporter": "python",
   "pygments_lexer": "ipython2",
   "version": "2.7.6"
  }
 },
 "nbformat": 4,
 "nbformat_minor": 0
}
