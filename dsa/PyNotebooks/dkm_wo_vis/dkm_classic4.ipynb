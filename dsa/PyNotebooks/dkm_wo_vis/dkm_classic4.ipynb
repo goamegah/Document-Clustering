{
 "cells": [
  {
   "cell_type": "code",
   "execution_count": 1,
   "metadata": {
    "collapsed": true,
    "ExecuteTime": {
     "start_time": "2023-05-22T20:16:17.417778Z",
     "end_time": "2023-05-22T20:16:46.731948Z"
    }
   },
   "outputs": [
    {
     "name": "stderr",
     "output_type": "stream",
     "text": [
      "2023-05-22 20:16:17.553924: I tensorflow/core/util/port.cc:110] oneDNN custom operations are on. You may see slightly different numerical results due to floating-point round-off errors from different computation orders. To turn them off, set the environment variable `TF_ENABLE_ONEDNN_OPTS=0`.\n",
      "2023-05-22 20:16:17.555289: I tensorflow/tsl/cuda/cudart_stub.cc:28] Could not find cuda drivers on your machine, GPU will not be used.\n",
      "2023-05-22 20:16:17.582566: I tensorflow/tsl/cuda/cudart_stub.cc:28] Could not find cuda drivers on your machine, GPU will not be used.\n",
      "2023-05-22 20:16:17.582963: I tensorflow/core/platform/cpu_feature_guard.cc:182] This TensorFlow binary is optimized to use available CPU instructions in performance-critical operations.\n",
      "To enable the following instructions: AVX2 AVX512F AVX512_VNNI FMA, in other operations, rebuild TensorFlow with the appropriate compiler flags.\n",
      "2023-05-22 20:16:18.030032: W tensorflow/compiler/tf2tensorrt/utils/py_utils.cc:38] TF-TRT Warning: Could not find TensorRT\n",
      "/home/khaldi/Documents/text-clustering/dkm_work/linear_assignment_.py:18: FutureWarning: The linear_assignment_ module is deprecated in 0.21 and will be removed from 0.23. Use scipy.optimize.linear_sum_assignment instead.\n",
      "  warnings.warn(\n"
     ]
    }
   ],
   "source": [
    "from dkm_work.dkm import deep_kmeans\n",
    "from globals import PARAMS"
   ]
  },
  {
   "cell_type": "code",
   "execution_count": 2,
   "outputs": [
    {
     "name": "stdout",
     "output_type": "stream",
     "text": [
      "Loading in word vectors...\n",
      "Finished loading in word vectors\n",
      "Numer of samples with no words found: 53 / 7095\n",
      "Dataset loaded...\n",
      "Hyperparameters...\n",
      "lambda = 1.0\n",
      "Run 0\n"
     ]
    },
    {
     "name": "stderr",
     "output_type": "stream",
     "text": [
      "/home/khaldi/Documents/text-clustering/dkm_work/compgraph.py:14: UserWarning: `tf.layers.dense` is deprecated and will be removed in a future version. Please use `tf.keras.layers.Dense` instead.\n",
      "  input = tf.compat.v1.layers.dense(inputs=input, units=dimension, activation=activation, name=name, reuse=tf.compat.v1.AUTO_REUSE)\n",
      "2023-05-22 20:21:15.421166: E tensorflow/compiler/xla/stream_executor/cuda/cuda_driver.cc:266] failed call to cuInit: CUDA_ERROR_NO_DEVICE: no CUDA-capable device is detected\n",
      "2023-05-22 20:21:15.421268: I tensorflow/compiler/xla/stream_executor/cuda/cuda_diagnostics.cc:168] retrieving CUDA diagnostic information for host: khaldi-Z590-GAMING-X\n",
      "2023-05-22 20:21:15.421313: I tensorflow/compiler/xla/stream_executor/cuda/cuda_diagnostics.cc:175] hostname: khaldi-Z590-GAMING-X\n",
      "2023-05-22 20:21:15.421732: I tensorflow/compiler/xla/stream_executor/cuda/cuda_diagnostics.cc:199] libcuda reported version is: 525.89.2\n",
      "2023-05-22 20:21:15.421814: I tensorflow/compiler/xla/stream_executor/cuda/cuda_diagnostics.cc:203] kernel reported version is: 525.89.2\n",
      "2023-05-22 20:21:15.421828: I tensorflow/compiler/xla/stream_executor/cuda/cuda_diagnostics.cc:309] kernel version seems to match DSO: 525.89.2\n",
      "2023-05-22 20:21:15.546442: I tensorflow/compiler/mlir/mlir_graph_optimization_pass.cc:353] MLIR V1 optimization pass is not enabled\n"
     ]
    },
    {
     "name": "stdout",
     "output_type": "stream",
     "text": [
      "Starting autoencoder pretraining...\n",
      "Pretraining step: epoch 0\n",
      "Pretraining step: epoch 1\n",
      "Pretraining step: epoch 2\n",
      "Pretraining step: epoch 3\n",
      "Pretraining step: epoch 4\n",
      "Pretraining step: epoch 5\n",
      "Pretraining step: epoch 6\n",
      "Pretraining step: epoch 7\n",
      "Pretraining step: epoch 8\n",
      "Pretraining step: epoch 9\n",
      "Pretraining step: epoch 10\n",
      "Pretraining step: epoch 11\n",
      "Pretraining step: epoch 12\n",
      "Pretraining step: epoch 13\n",
      "Pretraining step: epoch 14\n",
      "Pretraining step: epoch 15\n",
      "Pretraining step: epoch 16\n",
      "Pretraining step: epoch 17\n",
      "Pretraining step: epoch 18\n",
      "Pretraining step: epoch 19\n",
      "Pretraining step: epoch 20\n",
      "Pretraining step: epoch 21\n",
      "Pretraining step: epoch 22\n",
      "Pretraining step: epoch 23\n",
      "Pretraining step: epoch 24\n",
      "Pretraining step: epoch 25\n",
      "Pretraining step: epoch 26\n",
      "Pretraining step: epoch 27\n",
      "Pretraining step: epoch 28\n",
      "Pretraining step: epoch 29\n",
      "Pretraining step: epoch 30\n",
      "Pretraining step: epoch 31\n",
      "Pretraining step: epoch 32\n",
      "Pretraining step: epoch 33\n",
      "Pretraining step: epoch 34\n",
      "Pretraining step: epoch 35\n",
      "Pretraining step: epoch 36\n",
      "Pretraining step: epoch 37\n",
      "Pretraining step: epoch 38\n",
      "Pretraining step: epoch 39\n",
      "Pretraining step: epoch 40\n",
      "Pretraining step: epoch 41\n",
      "Pretraining step: epoch 42\n",
      "Pretraining step: epoch 43\n",
      "Pretraining step: epoch 44\n",
      "Pretraining step: epoch 45\n",
      "Pretraining step: epoch 46\n",
      "Pretraining step: epoch 47\n",
      "Pretraining step: epoch 48\n",
      "Pretraining step: epoch 49\n",
      "Running k-means on the learned embeddings...\n"
     ]
    },
    {
     "name": "stderr",
     "output_type": "stream",
     "text": [
      "/home/khaldi/.cache/pypoetry/virtualenvs/text-clust-h_mCOXh5-py3.10/lib/python3.10/site-packages/sklearn/cluster/_kmeans.py:870: FutureWarning: The default value of `n_init` will change from 10 to 'auto' in 1.4. Set the value of `n_init` explicitly to suppress the warning\n",
      "  warnings.warn(\n",
      "/home/khaldi/Documents/text-clustering/dkm_work/linear_assignment_.py:124: FutureWarning: The linear_assignment function is deprecated in 0.21 and will be removed from 0.23. Use scipy.optimize.linear_sum_assignment instead.\n",
      "  warnings.warn(\n"
     ]
    },
    {
     "name": "stdout",
     "output_type": "stream",
     "text": [
      "ACC 0.3440451021846371\n",
      "ARI -0.05553430502162196\n",
      "NMI 0.17817121114394252\n",
      "Starting DKM training...\n",
      "Training step: alpha[0]: 1000.0\n",
      "loss: 1.2256289\n",
      "ae loss: 1.1991887\n",
      "kmeans loss: 0.026440203\n",
      "ACC 0.39436222692036643\n",
      "ARI -0.040549135075119015\n",
      "NMI 0.06132416271693167\n",
      "Training step: alpha[1]: 1000.0\n"
     ]
    },
    {
     "name": "stderr",
     "output_type": "stream",
     "text": [
      "/home/khaldi/Documents/text-clustering/dkm_work/linear_assignment_.py:124: FutureWarning: The linear_assignment function is deprecated in 0.21 and will be removed from 0.23. Use scipy.optimize.linear_sum_assignment instead.\n",
      "  warnings.warn(\n"
     ]
    },
    {
     "name": "stdout",
     "output_type": "stream",
     "text": [
      "loss: 0.94032425\n",
      "ae loss: 0.92578876\n",
      "kmeans loss: 0.014535482\n",
      "ACC 0.39210711768851303\n",
      "ARI -0.041702619299520814\n",
      "NMI 0.06357496111763494\n",
      "Training step: alpha[2]: 1000.0\n"
     ]
    },
    {
     "name": "stderr",
     "output_type": "stream",
     "text": [
      "/home/khaldi/Documents/text-clustering/dkm_work/linear_assignment_.py:124: FutureWarning: The linear_assignment function is deprecated in 0.21 and will be removed from 0.23. Use scipy.optimize.linear_sum_assignment instead.\n",
      "  warnings.warn(\n"
     ]
    },
    {
     "name": "stdout",
     "output_type": "stream",
     "text": [
      "loss: 0.9328759\n",
      "ae loss: 0.9131377\n",
      "kmeans loss: 0.019738227\n",
      "ACC 0.39027484143763214\n",
      "ARI -0.04262437385246263\n",
      "NMI 0.0653950610968298\n",
      "Training step: alpha[3]: 1000.0\n"
     ]
    },
    {
     "name": "stderr",
     "output_type": "stream",
     "text": [
      "/home/khaldi/Documents/text-clustering/dkm_work/linear_assignment_.py:124: FutureWarning: The linear_assignment function is deprecated in 0.21 and will be removed from 0.23. Use scipy.optimize.linear_sum_assignment instead.\n",
      "  warnings.warn(\n"
     ]
    },
    {
     "name": "stdout",
     "output_type": "stream",
     "text": [
      "loss: 0.83045864\n",
      "ae loss: 0.82146394\n",
      "kmeans loss: 0.008994682\n",
      "ACC 0.38703312191684286\n",
      "ARI -0.044283687558120496\n",
      "NMI 0.06856655226744968\n",
      "Training step: alpha[4]: 1000.0\n"
     ]
    },
    {
     "name": "stderr",
     "output_type": "stream",
     "text": [
      "/home/khaldi/Documents/text-clustering/dkm_work/linear_assignment_.py:124: FutureWarning: The linear_assignment function is deprecated in 0.21 and will be removed from 0.23. Use scipy.optimize.linear_sum_assignment instead.\n",
      "  warnings.warn(\n"
     ]
    },
    {
     "name": "stdout",
     "output_type": "stream",
     "text": [
      "loss: 0.78424835\n",
      "ae loss: 0.7734791\n",
      "kmeans loss: 0.01076927\n",
      "ACC 0.38449612403100775\n",
      "ARI -0.045690156237683646\n",
      "NMI 0.0709741986526474\n",
      "Training step: alpha[5]: 1000.0\n"
     ]
    },
    {
     "name": "stderr",
     "output_type": "stream",
     "text": [
      "/home/khaldi/Documents/text-clustering/dkm_work/linear_assignment_.py:124: FutureWarning: The linear_assignment function is deprecated in 0.21 and will be removed from 0.23. Use scipy.optimize.linear_sum_assignment instead.\n",
      "  warnings.warn(\n"
     ]
    },
    {
     "name": "stdout",
     "output_type": "stream",
     "text": [
      "loss: 0.7320274\n",
      "ae loss: 0.7227837\n",
      "kmeans loss: 0.009243721\n",
      "ACC 0.3823819591261452\n",
      "ARI -0.04706145133703665\n",
      "NMI 0.07287389109674708\n",
      "Training step: alpha[6]: 1000.0\n"
     ]
    },
    {
     "name": "stderr",
     "output_type": "stream",
     "text": [
      "/home/khaldi/Documents/text-clustering/dkm_work/linear_assignment_.py:124: FutureWarning: The linear_assignment function is deprecated in 0.21 and will be removed from 0.23. Use scipy.optimize.linear_sum_assignment instead.\n",
      "  warnings.warn(\n"
     ]
    },
    {
     "name": "stdout",
     "output_type": "stream",
     "text": [
      "loss: 0.75375926\n",
      "ae loss: 0.7448519\n",
      "kmeans loss: 0.008907379\n",
      "ACC 0.3709654686398872\n",
      "ARI -0.05296090215047688\n",
      "NMI 0.0835265510962593\n",
      "Training step: alpha[7]: 1000.0\n"
     ]
    },
    {
     "name": "stderr",
     "output_type": "stream",
     "text": [
      "/home/khaldi/Documents/text-clustering/dkm_work/linear_assignment_.py:124: FutureWarning: The linear_assignment function is deprecated in 0.21 and will be removed from 0.23. Use scipy.optimize.linear_sum_assignment instead.\n",
      "  warnings.warn(\n"
     ]
    },
    {
     "name": "stdout",
     "output_type": "stream",
     "text": [
      "loss: 0.74689525\n",
      "ae loss: 0.7407733\n",
      "kmeans loss: 0.0061219577\n",
      "ACC 0.3143058491895701\n",
      "ARI -0.06800493753619424\n",
      "NMI 0.13614444802552023\n",
      "Training step: alpha[8]: 1000.0\n"
     ]
    },
    {
     "name": "stderr",
     "output_type": "stream",
     "text": [
      "/home/khaldi/Documents/text-clustering/dkm_work/linear_assignment_.py:124: FutureWarning: The linear_assignment function is deprecated in 0.21 and will be removed from 0.23. Use scipy.optimize.linear_sum_assignment instead.\n",
      "  warnings.warn(\n"
     ]
    },
    {
     "name": "stdout",
     "output_type": "stream",
     "text": [
      "loss: 0.6694639\n",
      "ae loss: 0.6608889\n",
      "kmeans loss: 0.00857498\n",
      "ACC 0.3116279069767442\n",
      "ARI -0.0686773570947859\n",
      "NMI 0.13836468931693993\n",
      "Training step: alpha[9]: 1000.0\n"
     ]
    },
    {
     "name": "stderr",
     "output_type": "stream",
     "text": [
      "/home/khaldi/Documents/text-clustering/dkm_work/linear_assignment_.py:124: FutureWarning: The linear_assignment function is deprecated in 0.21 and will be removed from 0.23. Use scipy.optimize.linear_sum_assignment instead.\n",
      "  warnings.warn(\n"
     ]
    },
    {
     "name": "stdout",
     "output_type": "stream",
     "text": [
      "loss: 0.660491\n",
      "ae loss: 0.65201914\n",
      "kmeans loss: 0.008471823\n",
      "ACC 0.30965468639887245\n",
      "ARI -0.07001181656672983\n",
      "NMI 0.13973420998125685\n",
      "Training step: alpha[10]: 1000.0\n"
     ]
    },
    {
     "name": "stderr",
     "output_type": "stream",
     "text": [
      "/home/khaldi/Documents/text-clustering/dkm_work/linear_assignment_.py:124: FutureWarning: The linear_assignment function is deprecated in 0.21 and will be removed from 0.23. Use scipy.optimize.linear_sum_assignment instead.\n",
      "  warnings.warn(\n"
     ]
    },
    {
     "name": "stdout",
     "output_type": "stream",
     "text": [
      "loss: 0.6038937\n",
      "ae loss: 0.5958184\n",
      "kmeans loss: 0.00807532\n",
      "ACC 0.31007751937984496\n",
      "ARI -0.07033889053355566\n",
      "NMI 0.13924287528828153\n",
      "Training step: alpha[11]: 1000.0\n"
     ]
    },
    {
     "name": "stderr",
     "output_type": "stream",
     "text": [
      "/home/khaldi/Documents/text-clustering/dkm_work/linear_assignment_.py:124: FutureWarning: The linear_assignment function is deprecated in 0.21 and will be removed from 0.23. Use scipy.optimize.linear_sum_assignment instead.\n",
      "  warnings.warn(\n"
     ]
    },
    {
     "name": "stdout",
     "output_type": "stream",
     "text": [
      "loss: 0.6148597\n",
      "ae loss: 0.60797715\n",
      "kmeans loss: 0.0068825544\n",
      "ACC 0.3099365750528541\n",
      "ARI -0.07044965883539041\n",
      "NMI 0.13932944323714272\n",
      "Training step: alpha[12]: 1000.0\n"
     ]
    },
    {
     "name": "stderr",
     "output_type": "stream",
     "text": [
      "/home/khaldi/Documents/text-clustering/dkm_work/linear_assignment_.py:124: FutureWarning: The linear_assignment function is deprecated in 0.21 and will be removed from 0.23. Use scipy.optimize.linear_sum_assignment instead.\n",
      "  warnings.warn(\n"
     ]
    },
    {
     "name": "stdout",
     "output_type": "stream",
     "text": [
      "loss: 0.5585101\n",
      "ae loss: 0.55238545\n",
      "kmeans loss: 0.006124652\n",
      "ACC 0.30824524312896406\n",
      "ARI -0.07063840761490592\n",
      "NMI 0.14086402884415386\n",
      "Training step: alpha[13]: 1000.0\n"
     ]
    },
    {
     "name": "stderr",
     "output_type": "stream",
     "text": [
      "/home/khaldi/Documents/text-clustering/dkm_work/linear_assignment_.py:124: FutureWarning: The linear_assignment function is deprecated in 0.21 and will be removed from 0.23. Use scipy.optimize.linear_sum_assignment instead.\n",
      "  warnings.warn(\n"
     ]
    },
    {
     "name": "stdout",
     "output_type": "stream",
     "text": [
      "loss: 0.5267964\n",
      "ae loss: 0.5199455\n",
      "kmeans loss: 0.0068509076\n",
      "ACC 0.3058491895701198\n",
      "ARI -0.07070354335322529\n",
      "NMI 0.14306568329738392\n",
      "Training step: alpha[14]: 1000.0\n"
     ]
    },
    {
     "name": "stderr",
     "output_type": "stream",
     "text": [
      "/home/khaldi/Documents/text-clustering/dkm_work/linear_assignment_.py:124: FutureWarning: The linear_assignment function is deprecated in 0.21 and will be removed from 0.23. Use scipy.optimize.linear_sum_assignment instead.\n",
      "  warnings.warn(\n"
     ]
    },
    {
     "name": "stdout",
     "output_type": "stream",
     "text": [
      "loss: 0.5249181\n",
      "ae loss: 0.5181092\n",
      "kmeans loss: 0.0068088705\n",
      "ACC 0.30528541226215644\n",
      "ARI -0.07167085797570193\n",
      "NMI 0.14327583973446478\n",
      "Training step: alpha[15]: 1000.0\n"
     ]
    },
    {
     "name": "stderr",
     "output_type": "stream",
     "text": [
      "/home/khaldi/Documents/text-clustering/dkm_work/linear_assignment_.py:124: FutureWarning: The linear_assignment function is deprecated in 0.21 and will be removed from 0.23. Use scipy.optimize.linear_sum_assignment instead.\n",
      "  warnings.warn(\n"
     ]
    },
    {
     "name": "stdout",
     "output_type": "stream",
     "text": [
      "loss: 0.4908783\n",
      "ae loss: 0.4851799\n",
      "kmeans loss: 0.005698423\n",
      "ACC 0.30486257928118393\n",
      "ARI -0.07176419595560092\n",
      "NMI 0.14365657244208574\n",
      "Training step: alpha[16]: 1000.0\n"
     ]
    },
    {
     "name": "stderr",
     "output_type": "stream",
     "text": [
      "/home/khaldi/Documents/text-clustering/dkm_work/linear_assignment_.py:124: FutureWarning: The linear_assignment function is deprecated in 0.21 and will be removed from 0.23. Use scipy.optimize.linear_sum_assignment instead.\n",
      "  warnings.warn(\n"
     ]
    },
    {
     "name": "stdout",
     "output_type": "stream",
     "text": [
      "loss: 0.5222597\n",
      "ae loss: 0.5165606\n",
      "kmeans loss: 0.0056990893\n",
      "ACC 0.3054263565891473\n",
      "ARI -0.07227035413511572\n",
      "NMI 0.1429584731202344\n",
      "Training step: alpha[17]: 1000.0\n"
     ]
    },
    {
     "name": "stderr",
     "output_type": "stream",
     "text": [
      "/home/khaldi/Documents/text-clustering/dkm_work/linear_assignment_.py:124: FutureWarning: The linear_assignment function is deprecated in 0.21 and will be removed from 0.23. Use scipy.optimize.linear_sum_assignment instead.\n",
      "  warnings.warn(\n"
     ]
    },
    {
     "name": "stdout",
     "output_type": "stream",
     "text": [
      "loss: 0.5596058\n",
      "ae loss: 0.5520506\n",
      "kmeans loss: 0.0075552026\n",
      "ACC 0.3028893587033122\n",
      "ARI -0.0725417734640675\n",
      "NMI 0.14521782369901012\n",
      "Training step: alpha[18]: 1000.0\n"
     ]
    },
    {
     "name": "stderr",
     "output_type": "stream",
     "text": [
      "/home/khaldi/Documents/text-clustering/dkm_work/linear_assignment_.py:124: FutureWarning: The linear_assignment function is deprecated in 0.21 and will be removed from 0.23. Use scipy.optimize.linear_sum_assignment instead.\n",
      "  warnings.warn(\n"
     ]
    },
    {
     "name": "stdout",
     "output_type": "stream",
     "text": [
      "loss: 0.48932204\n",
      "ae loss: 0.48385197\n",
      "kmeans loss: 0.0054700607\n",
      "ACC 0.3040169133192389\n",
      "ARI -0.072629276991733\n",
      "NMI 0.14414353709874062\n",
      "Training step: alpha[19]: 1000.0\n"
     ]
    },
    {
     "name": "stderr",
     "output_type": "stream",
     "text": [
      "/home/khaldi/Documents/text-clustering/dkm_work/linear_assignment_.py:124: FutureWarning: The linear_assignment function is deprecated in 0.21 and will be removed from 0.23. Use scipy.optimize.linear_sum_assignment instead.\n",
      "  warnings.warn(\n"
     ]
    },
    {
     "name": "stdout",
     "output_type": "stream",
     "text": [
      "loss: 0.48138028\n",
      "ae loss: 0.4753311\n",
      "kmeans loss: 0.0060491785\n",
      "ACC 0.30345313601127555\n",
      "ARI -0.07279691390124002\n",
      "NMI 0.14461749056371223\n",
      "Average ACC: 0.303 +/- 0.000\n",
      "Average ARI: -0.073 +/- 0.000\n",
      "Average NMI: 0.145 +/- 0.000\n"
     ]
    },
    {
     "name": "stderr",
     "output_type": "stream",
     "text": [
      "/home/khaldi/Documents/text-clustering/dkm_work/linear_assignment_.py:124: FutureWarning: The linear_assignment function is deprecated in 0.21 and will be removed from 0.23. Use scipy.optimize.linear_sum_assignment instead.\n",
      "  warnings.warn(\n"
     ]
    }
   ],
   "source": [
    "results=deep_kmeans(dataset=\"CLASSIC4\",params=PARAMS,n_runs=1)"
   ],
   "metadata": {
    "collapsed": false,
    "ExecuteTime": {
     "start_time": "2023-05-22T20:16:46.736370Z",
     "end_time": "2023-05-22T20:33:46.269848Z"
    }
   }
  },
  {
   "cell_type": "code",
   "execution_count": 5,
   "outputs": [],
   "source": [
    "results[\"embeddings\"].tofile(\"classic4.dat\")\n",
    "results[\"labels\"].tofile(\"classic4_labels.dat\")"
   ],
   "metadata": {
    "collapsed": false,
    "ExecuteTime": {
     "start_time": "2023-05-22T20:44:20.933732Z",
     "end_time": "2023-05-22T20:44:20.977889Z"
    }
   }
  },
  {
   "cell_type": "code",
   "execution_count": 4,
   "outputs": [
    {
     "data": {
      "text/plain": "{'labels': array([3, 2, 2, ..., 2, 0, 2]),\n 'acc': array([0.30345314]),\n 'ari': array([-0.07279691]),\n 'nmi': array([0.14461749]),\n 'embeddings': array([[-0.09879245, -0.06019496,  0.01382067,  0.41989583],\n        [ 0.01037742, -0.03229751, -0.00755745, -0.03910698],\n        [ 0.00069503,  0.03782534,  0.0125491 , -0.03690714],\n        ...,\n        [ 0.01369017, -0.05809133, -0.11020199,  0.08320584],\n        [-0.0082223 ,  0.14426358, -0.02740888,  0.04196574],\n        [ 0.06142181,  0.01054729,  0.04212938, -0.06829292]])}"
     },
     "execution_count": 4,
     "metadata": {},
     "output_type": "execute_result"
    }
   ],
   "source": [
    "results"
   ],
   "metadata": {
    "collapsed": false,
    "ExecuteTime": {
     "start_time": "2023-05-22T20:37:06.133802Z",
     "end_time": "2023-05-22T20:37:06.161859Z"
    }
   }
  },
  {
   "cell_type": "code",
   "execution_count": 7,
   "outputs": [
    {
     "data": {
      "text/plain": "(7095, 4)"
     },
     "execution_count": 7,
     "metadata": {},
     "output_type": "execute_result"
    }
   ],
   "source": [
    "results[\"embeddings\"].shape"
   ],
   "metadata": {
    "collapsed": false,
    "ExecuteTime": {
     "start_time": "2023-05-22T20:44:42.483820Z",
     "end_time": "2023-05-22T20:44:42.490061Z"
    }
   }
  },
  {
   "cell_type": "code",
   "execution_count": 6,
   "outputs": [
    {
     "data": {
      "text/plain": "(7095,)"
     },
     "execution_count": 6,
     "metadata": {},
     "output_type": "execute_result"
    }
   ],
   "source": [
    "results[\"labels\"].shape"
   ],
   "metadata": {
    "collapsed": false,
    "ExecuteTime": {
     "start_time": "2023-05-22T20:44:31.855726Z",
     "end_time": "2023-05-22T20:44:31.865705Z"
    }
   }
  },
  {
   "cell_type": "code",
   "execution_count": 8,
   "outputs": [
    {
     "data": {
      "text/plain": "array([[-0.09879245, -0.06019496,  0.01382067,  0.41989583],\n       [ 0.01037742, -0.03229751, -0.00755745, -0.03910698],\n       [ 0.00069503,  0.03782534,  0.0125491 , -0.03690714],\n       ...,\n       [ 0.01369017, -0.05809133, -0.11020199,  0.08320584],\n       [-0.0082223 ,  0.14426358, -0.02740888,  0.04196574],\n       [ 0.06142181,  0.01054729,  0.04212938, -0.06829292]])"
     },
     "execution_count": 8,
     "metadata": {},
     "output_type": "execute_result"
    }
   ],
   "source": [
    "import numpy as np\n",
    "np.fromfile(\"classic4.dat\").reshape((7095, 4))"
   ],
   "metadata": {
    "collapsed": false,
    "ExecuteTime": {
     "start_time": "2023-05-22T20:45:03.579278Z",
     "end_time": "2023-05-22T20:45:03.621945Z"
    }
   }
  },
  {
   "cell_type": "code",
   "execution_count": 10,
   "outputs": [
    {
     "data": {
      "text/plain": "array([3, 2, 2, ..., 2, 0, 2])"
     },
     "execution_count": 10,
     "metadata": {},
     "output_type": "execute_result"
    }
   ],
   "source": [
    "np.fromfile(\"classic4_labels.dat\",dtype=int).reshape(-1)"
   ],
   "metadata": {
    "collapsed": false,
    "ExecuteTime": {
     "start_time": "2023-05-22T20:45:27.931597Z",
     "end_time": "2023-05-22T20:45:27.937059Z"
    }
   }
  },
  {
   "cell_type": "code",
   "execution_count": null,
   "outputs": [],
   "source": [],
   "metadata": {
    "collapsed": false
   }
  }
 ],
 "metadata": {
  "kernelspec": {
   "display_name": "Python 3",
   "language": "python",
   "name": "python3"
  },
  "language_info": {
   "codemirror_mode": {
    "name": "ipython",
    "version": 2
   },
   "file_extension": ".py",
   "mimetype": "text/x-python",
   "name": "python",
   "nbconvert_exporter": "python",
   "pygments_lexer": "ipython2",
   "version": "2.7.6"
  }
 },
 "nbformat": 4,
 "nbformat_minor": 0
}
